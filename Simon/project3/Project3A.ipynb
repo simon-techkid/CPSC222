{
 "cells": [
  {
   "cell_type": "markdown",
   "id": "8ca7dd92-801d-4781-90da-6fe635016d0a",
   "metadata": {},
   "source": [
    "# Project 3A - Data Science with Jupyter"
   ]
  },
  {
   "cell_type": "code",
   "execution_count": 1,
   "id": "da206f73-3a0e-45a3-a6b5-e636930b9ab3",
   "metadata": {},
   "outputs": [],
   "source": [
    "# Import what we need: Regex (tokenize), Pandas (parse), and types for type hinting\n",
    "\n",
    "import re\n",
    "import pandas as pd\n",
    "from typing import List, Dict"
   ]
  },
  {
   "cell_type": "code",
   "execution_count": 2,
   "id": "ad9c0e4c-1830-44b0-8727-cc2af4863eb8",
   "metadata": {},
   "outputs": [],
   "source": [
    "# Set up input file paths, and the output CSV path.\n",
    "\n",
    "MR = \"the_masque_of_the_red_death.txt\"\n",
    "UL = \"ulysses.txt\"\n",
    "YT = \"yeats.txt\"\n",
    "MM = \"middlemarch.txt\"\n",
    "\n",
    "fileInput: str = UL\n",
    "fileOutput: str = \"data.csv\""
   ]
  },
  {
   "cell_type": "code",
   "execution_count": 3,
   "id": "a6145303-ac8a-404a-9ab7-95d2f78f43b4",
   "metadata": {},
   "outputs": [],
   "source": [
    "# Open the file and read its contents to a string\n",
    "\n",
    "with open(fileInput, 'r', encoding='utf-8') as f:\n",
    "    text: str = f.read()"
   ]
  },
  {
   "cell_type": "code",
   "execution_count": 4,
   "id": "9f7fb5af-a135-4ca2-86b5-684be2440c44",
   "metadata": {},
   "outputs": [
    {
     "name": "stdout",
     "output_type": "stream",
     "text": [
      "Input tokenized\n"
     ]
    }
   ],
   "source": [
    "# Tokenize the file based on letters a through Z\n",
    "\n",
    "string: str = re.sub('\\n',' ', text)\n",
    "\n",
    "good_chars: List[str] = [chr(value) for value in range(ord('a'),ord('z') + 1,1)]\n",
    "good_chars.append(' ')\n",
    "string: str = string.lower()\n",
    "\n",
    "new_str: str = ''\n",
    "for ch in string:\n",
    "   if ch in good_chars:\n",
    "      new_str = new_str + ch\n",
    "\n",
    "lst: List[str] = new_str.split()"
   ]
  },
  {
   "cell_type": "code",
   "execution_count": 5,
   "id": "4f092712-44d5-4a46-9a15-1a677938c27c",
   "metadata": {},
   "outputs": [],
   "source": [
    "# Create Dictionary to count occurences of values\n",
    "\n",
    "count_dict: Dict = {}\n",
    "for word in lst:\n",
    "   if word in count_dict:\n",
    "      count_dict[word] = count_dict[word] + 1\n",
    "   else:\n",
    "      count_dict[word] = 1"
   ]
  },
  {
   "cell_type": "code",
   "execution_count": 6,
   "id": "9611fb5c-5752-43ae-a0b9-f37f048a567a",
   "metadata": {},
   "outputs": [],
   "source": [
    "# Export the frequency (column 0) and word itself (column 1) to a CSV file. Remove the DataFrame index values.\n",
    "lst = count_dict.items()\n",
    "word_frequencies: List = [(item[1],item[0]) for item in lst]\n",
    "\n",
    "df: pd.DataFrame = pd.DataFrame(word_frequencies, columns=['freq','word'])\n",
    "df.to_csv(fileOutput, index=False)"
   ]
  }
 ],
 "metadata": {
  "kernelspec": {
   "display_name": "Python 3 (ipykernel)",
   "language": "python",
   "name": "python3"
  },
  "language_info": {
   "codemirror_mode": {
    "name": "ipython",
    "version": 3
   },
   "file_extension": ".py",
   "mimetype": "text/x-python",
   "name": "python",
   "nbconvert_exporter": "python",
   "pygments_lexer": "ipython3",
   "version": "3.13.9"
  }
 },
 "nbformat": 4,
 "nbformat_minor": 5
}
