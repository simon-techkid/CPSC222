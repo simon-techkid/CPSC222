{
 "cells": [
  {
   "cell_type": "markdown",
   "id": "81df2b0b-db13-4cbf-8274-d2d711da5a06",
   "metadata": {},
   "source": [
    "# Descriptive Statistics Sampler"
   ]
  },
  {
   "cell_type": "code",
   "execution_count": 52,
   "id": "45162275-dc13-45f6-aae4-49146ffd5a2c",
   "metadata": {},
   "outputs": [],
   "source": [
    "import pandas as pd\n",
    "import matplotlib.pyplot as plt  # used to create a histogram"
   ]
  },
  {
   "cell_type": "code",
   "execution_count": 53,
   "id": "e88f1cf6-a8d3-4be7-867a-100f6530f4b6",
   "metadata": {},
   "outputs": [],
   "source": [
    "PATH = \"/Users/depalma/Desktop/CPSC222/A-Data/\"\n",
    "data = PATH + \"nhanes.csv\"\n",
    "nhanes = pd.read_csv(data)"
   ]
  },
  {
   "cell_type": "code",
   "execution_count": 60,
   "id": "90b57de7-e26c-4419-860e-c9b33c066a1c",
   "metadata": {},
   "outputs": [
    {
     "name": "stdout",
     "output_type": "stream",
     "text": [
      "2760     7\n",
      "4546    55\n",
      "6276    60\n",
      "7799    27\n",
      "5166    11\n",
      "9580    31\n",
      "992     80\n",
      "787     43\n",
      "3784    14\n",
      "6692    58\n",
      "3862    16\n",
      "6437    12\n",
      "6180    48\n",
      "5012    57\n",
      "9440    63\n",
      "1187    28\n",
      "6512    37\n",
      "8006     4\n",
      "4803    59\n",
      "55      78\n",
      "Name: Age, dtype: int64\n"
     ]
    }
   ],
   "source": [
    "#Take 5 random samples of 20 records witout replacement\n",
    "#samp_lst = [nhanes.sample(n=20, replace=False) for i in range(5)]\n",
    "sample_lst = [nhanes.sample(n=20, replace=False) for i in range(5)]"
   ]
  },
  {
   "cell_type": "code",
   "execution_count": 61,
   "id": "22ab918a-a730-481c-8f10-5ea28581d828",
   "metadata": {},
   "outputs": [],
   "source": [
    "#Compute the sample means\n",
    "\n",
    "means = [sample[\"Age\"].mean() for sample in sample_lst]"
   ]
  },
  {
   "cell_type": "code",
   "execution_count": 64,
   "id": "00a469fe-8d7e-44f8-a9f9-278310c7d984",
   "metadata": {},
   "outputs": [
    {
     "name": "stdout",
     "output_type": "stream",
     "text": [
      "39.4\n",
      "35.6\n",
      "38.3\n",
      "39.5\n",
      "32.5\n"
     ]
    }
   ],
   "source": [
    "for i in means:\n",
    "    print(i)\n"
   ]
  },
  {
   "cell_type": "code",
   "execution_count": 65,
   "id": "3364b343-97c0-4dd6-a774-b0ae5bbe3920",
   "metadata": {},
   "outputs": [],
   "source": [
    "#compute the population mean\n",
    "pop_mean = nhanes[\"Age\"].mean()"
   ]
  },
  {
   "cell_type": "code",
   "execution_count": 66,
   "id": "4d08442f-f14d-4cd6-99a5-712a157b2c9f",
   "metadata": {},
   "outputs": [
    {
     "name": "stdout",
     "output_type": "stream",
     "text": [
      "36.7421\n"
     ]
    }
   ],
   "source": [
    "print(pop_mean)"
   ]
  },
  {
   "cell_type": "code",
   "execution_count": 67,
   "id": "221a9d9a-bbf2-45e4-85e3-0b32b88bd996",
   "metadata": {},
   "outputs": [
    {
     "name": "stdout",
     "output_type": "stream",
     "text": [
      "35.5\n",
      "39.89\n",
      "36.93\n",
      "36.66\n",
      "37.32\n"
     ]
    }
   ],
   "source": [
    "\n",
    "sample_lst = [nhanes.sample(n=100, replace=False) for i in range(5)]\n",
    "means = [sample[\"Age\"].mean() for sample in sample_lst]\n",
    "for i in means:\n",
    "    print(i)"
   ]
  },
  {
   "cell_type": "code",
   "execution_count": null,
   "id": "29d6a024-4265-49d0-acef-f64880443012",
   "metadata": {},
   "outputs": [],
   "source": []
  }
 ],
 "metadata": {
  "kernelspec": {
   "display_name": "Python 3 (ipykernel)",
   "language": "python",
   "name": "python3"
  },
  "language_info": {
   "codemirror_mode": {
    "name": "ipython",
    "version": 3
   },
   "file_extension": ".py",
   "mimetype": "text/x-python",
   "name": "python",
   "nbconvert_exporter": "python",
   "pygments_lexer": "ipython3",
   "version": "3.13.7"
  }
 },
 "nbformat": 4,
 "nbformat_minor": 5
}
