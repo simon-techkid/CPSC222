{
 "cells": [
  {
   "cell_type": "markdown",
   "id": "86102e3f-f685-4caf-944d-46c7ce02ca03",
   "metadata": {},
   "source": [
    "# Project 3A:Tokenize, Count, Write to CSV"
   ]
  },
  {
   "cell_type": "code",
   "execution_count": 14,
   "id": "da206f73-3a0e-45a3-a6b5-e636930b9ab3",
   "metadata": {},
   "outputs": [],
   "source": [
    "\n",
    "import re\n",
    "import pandas as pd\n",
    "\n",
    "PATH = \"/Users/depalma/Desktop/CPSC222/A-Data/\"\n",
    "MM = \"middlemarch.txt\"\n",
    "MR = \"the_masque_of_the_red_death.txt\"\n",
    "UL = \"ulysses.txt\"\n",
    "YT = \"yeats.txt\"\n",
    "\n",
    "fin = PATH +  YT\n",
    "plotType = \"LL\"\n",
    "#plotType = \"C\""
   ]
  },
  {
   "cell_type": "code",
   "execution_count": 15,
   "id": "a6145303-ac8a-404a-9ab7-95d2f78f43b4",
   "metadata": {},
   "outputs": [],
   "source": [
    "#Read in Data\n",
    "with open(fin, 'r', encoding='utf-8') as f:\n",
    "   text = f.read()\n"
   ]
  },
  {
   "cell_type": "code",
   "execution_count": 16,
   "id": "9f7fb5af-a135-4ca2-86b5-684be2440c44",
   "metadata": {},
   "outputs": [],
   "source": [
    "#Tokenize\n",
    "string = re.sub('\\n',' ', text)\n",
    "\n",
    "#create a list containing all lower case characters\n",
    "good_chars = [chr(value) for value in range(ord('a'),ord('z') + 1,1)]\n",
    "good_chars.append(' ') #spaces are good characters\n",
    "string = string.lower()\n",
    "\n",
    "new_str = ''\n",
    "for ch in string:\n",
    "   if ch in good_chars:\n",
    "      new_str = new_str + ch\n",
    "\n",
    "#make list of words by removing spaces\n",
    "lst = new_str.split()\n"
   ]
  },
  {
   "cell_type": "code",
   "execution_count": 19,
   "id": "4f092712-44d5-4a46-9a15-1a677938c27c",
   "metadata": {},
   "outputs": [],
   "source": [
    "#Count Words\n",
    "'''\n",
    "count_dict = {}\n",
    "for word in lst:\n",
    "   if word in count_dict:\n",
    "      count_dict[word] = count_dict[word] + 1\n",
    "   else:\n",
    "      count_dict[word] = 1\n",
    "'''    \n",
    "cnt_dict = {word:lst.count(word) for word in lst}\n"
   ]
  },
  {
   "cell_type": "code",
   "execution_count": 27,
   "id": "9611fb5c-5752-43ae-a0b9-f37f048a567a",
   "metadata": {},
   "outputs": [],
   "source": [
    "#Build dataframe and write CSV file\n",
    "\n",
    "#Make an iterable object from the dictiobary tuples\n",
    "lst = cnt_dict.items()\n",
    "\n",
    "#Reverse the tuple info from (word,freq) to (freq,word)\n",
    "freq_word_lst = [(item[1],item[0]) for item in word_freq_lst]\n",
    "\n",
    "df = pd.DataFrame(freq_word_lst, columns=['freq','word'])\n",
    "\n",
    "df.to_csv(\"data.csv\", index=False, header=False)\n",
    "#sort words by rank. recreate pandas (left col) index in \n",
    "#case it has been damaged\n",
    "#df = df.sort_values(by='count', ascending=False).reset_index(drop=True)\n",
    "    \n",
    "#starting at index 0, create a new column called 'rank' set to 0+1\n",
    "#df.insert(0,'rank', df.index+1)\n",
    "    \n",
    "#df.to_csv(\"data.csv\", index=False, header=False)\n",
    "\n"
   ]
  },
  {
   "cell_type": "code",
   "execution_count": null,
   "id": "1fd62759-5382-428c-8179-18177c10b27e",
   "metadata": {},
   "outputs": [],
   "source": []
  }
 ],
 "metadata": {
  "kernelspec": {
   "display_name": "Python 3 (ipykernel)",
   "language": "python",
   "name": "python3"
  },
  "language_info": {
   "codemirror_mode": {
    "name": "ipython",
    "version": 3
   },
   "file_extension": ".py",
   "mimetype": "text/x-python",
   "name": "python",
   "nbconvert_exporter": "python",
   "pygments_lexer": "ipython3",
   "version": "3.13.7"
  }
 },
 "nbformat": 4,
 "nbformat_minor": 5
}
