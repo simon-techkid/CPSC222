{
 "cells": [
  {
   "cell_type": "markdown",
   "id": "9d3cbb33-1190-4b41-86b1-4b4114a9d6d4",
   "metadata": {},
   "source": [
    "# Jupyter Notebook with JSON"
   ]
  },
  {
   "cell_type": "code",
   "execution_count": 3,
   "id": "df2046a1-63e7-4eb9-aa03-4f7563188dcd",
   "metadata": {},
   "outputs": [],
   "source": [
    "import json\n"
   ]
  },
  {
   "cell_type": "code",
   "execution_count": 4,
   "id": "263e3098-a67a-4019-bd38-07a4e2922892",
   "metadata": {},
   "outputs": [
    {
     "name": "stdout",
     "output_type": "stream",
     "text": [
      "[0, 1, 2, 3, 4, 5, 6, 7, 8, 9]\n"
     ]
    }
   ],
   "source": [
    "lst = [i for i in range(10)]\n",
    "print(lst)\n"
   ]
  },
  {
   "cell_type": "code",
   "execution_count": 5,
   "id": "f235c7dc-ec52-4b3c-a057-d251e78e4ac4",
   "metadata": {},
   "outputs": [],
   "source": [
    "#write out serialized list.  Check the current folder \n",
    "with open(\"list1.json\", \"w\") as f:\n",
    "    json.dump(lst, f, indent=4)"
   ]
  },
  {
   "cell_type": "code",
   "execution_count": 20,
   "id": "a5010d5a-51a9-4c09-a5f6-09adbbdcd368",
   "metadata": {},
   "outputs": [
    {
     "name": "stdout",
     "output_type": "stream",
     "text": [
      "[0, 1, 2, 3, 4, 5, 6, 7, 8, 9]\n"
     ]
    }
   ],
   "source": [
    "#Now, suppose you are writing another program\n",
    "with open(\"list1.json\", \"r\") as f:\n",
    "    loaded_list = json.load(f)\n",
    "print(loaded_list)"
   ]
  },
  {
   "cell_type": "code",
   "execution_count": 4,
   "id": "3701723f-0f1d-4c4c-b2ff-52a3b142ac9e",
   "metadata": {},
   "outputs": [],
   "source": [
    "#works with dictionaries\n",
    "\n",
    "people = {\n",
    "    \"alice\": {\n",
    "        \"age\": 30,\n",
    "        \"likes\": [\"reading\", \"hiking\", \"cooking\"]\n",
    "    },\n",
    "    \"bob\": {\n",
    "        \"age\": 25,\n",
    "        \"likes\": [\"knitting\", \"cycling\"]\n",
    "    },\n",
    "    \"charlie\": {\n",
    "        \"age\": 35,\n",
    "        \"likes\": [\"photography\", \"martial arts\"]\n",
    "    }\n",
    "}"
   ]
  },
  {
   "cell_type": "code",
   "execution_count": 5,
   "id": "c552ffaf-0684-4419-a686-104941eef973",
   "metadata": {},
   "outputs": [
    {
     "data": {
      "text/plain": [
       "['knitting', 'cycling']"
      ]
     },
     "execution_count": 5,
     "metadata": {},
     "output_type": "execute_result"
    }
   ],
   "source": [
    "people[\"bob\"][\"likes\"]"
   ]
  },
  {
   "cell_type": "code",
   "execution_count": 8,
   "id": "e9d5542b-8f7a-4f9f-b00c-50ad6314cef5",
   "metadata": {},
   "outputs": [],
   "source": [
    "#write out serialized list.  Check the current folder \n",
    "with open(\"People.json\", \"w\") as f:\n",
    "    json.dump(people, f, indent=4)\n",
    "#check out the folder"
   ]
  },
  {
   "cell_type": "code",
   "execution_count": 9,
   "id": "b7b06f51-add4-48ca-94a5-0e347f3f079e",
   "metadata": {},
   "outputs": [
    {
     "name": "stdout",
     "output_type": "stream",
     "text": [
      "{'alice': {'age': 30, 'likes': ['reading', 'hiking', 'cooking']}, 'bob': {'age': 25, 'likes': ['knitting', 'cycling']}, 'charlie': {'age': 35, 'likes': ['photography', 'martial arts']}}\n"
     ]
    }
   ],
   "source": [
    "with open(\"people.json\", \"r\") as f:\n",
    "    people_in = json.load(f)\n",
    "print(people_in)"
   ]
  },
  {
   "cell_type": "code",
   "execution_count": 10,
   "id": "5e0a1e92-b043-4c6b-b5df-3ed2c2620322",
   "metadata": {},
   "outputs": [
    {
     "name": "stdout",
     "output_type": "stream",
     "text": [
      "<class 'str'>\n",
      "{\n",
      "    \"alice\": {\n",
      "        \"age\": 30,\n",
      "        \"likes\": [\n",
      "            \"reading\",\n",
      "            \"hiking\",\n",
      "            \"cooking\"\n",
      "        ]\n",
      "    },\n",
      "    \"bob\": {\n",
      "        \"age\": 25,\n",
      "        \"likes\": [\n",
      "            \"knitting\",\n",
      "            \"cycling\"\n",
      "        ]\n",
      "    },\n",
      "    \"charlie\": {\n",
      "        \"age\": 35,\n",
      "        \"likes\": [\n",
      "            \"photography\",\n",
      "            \"martial arts\"\n",
      "        ]\n",
      "    }\n",
      "}\n"
     ]
    }
   ],
   "source": [
    "#We can make this print more clearly\n",
    "people_str = json.dumps(people_in, indent=4)\n",
    "\n",
    "print(type(people_str))  # <class 'str'>\n",
    "print(people_str)"
   ]
  },
  {
   "cell_type": "code",
   "execution_count": 11,
   "id": "c5c88b5b-977d-42a7-a1ea-59b1a7acaca3",
   "metadata": {},
   "outputs": [],
   "source": [
    "#Can use a dictonary to serialize multiple lists\n",
    "import random\n",
    "lst0 = [random.randint(1,9) for i in range(10)]\n",
    "lst1 = [random.randint(10,99) for i in range(10)]\n",
    "lst2 = [random.randint(100,999) for i in range(10)]\n",
    "lst3 = [random.randint(1000,9999) for i in range(10)]\n"
   ]
  },
  {
   "cell_type": "code",
   "execution_count": 12,
   "id": "b6f2201e-a0c5-487a-8426-a69eeb1adfd8",
   "metadata": {},
   "outputs": [],
   "source": [
    "my_dict = {\n",
    "    \"1-digit\":  lst0,\n",
    "    \"2-digits\": lst1,\n",
    "    \"3-digits\": lst2,\n",
    "    \"4-digits\": lst3 \n",
    "}"
   ]
  },
  {
   "cell_type": "code",
   "execution_count": 13,
   "id": "fd21b876-0275-41b3-945f-b556678b3536",
   "metadata": {},
   "outputs": [],
   "source": [
    "#write out serialized dictionary.  Check the current folder \n",
    "with open(\"Integers.json\", \"w\") as f:\n",
    "    json.dump(my_dict, f, indent=4)\n",
    "#check out the folder"
   ]
  },
  {
   "cell_type": "code",
   "execution_count": 14,
   "id": "77034c4b-4bfd-4d8a-ae7b-80c0c76df8da",
   "metadata": {},
   "outputs": [],
   "source": [
    "#remove the dictionray\n",
    "my_dict = {}"
   ]
  },
  {
   "cell_type": "code",
   "execution_count": 15,
   "id": "e3e6c163-5c78-4828-85e4-932aad2b4414",
   "metadata": {},
   "outputs": [],
   "source": [
    "#restore it\n",
    "with open(\"Integers.json\", \"r\") as f:\n",
    "    my_dict = json.load(f)\n"
   ]
  },
  {
   "cell_type": "code",
   "execution_count": 31,
   "id": "6b6476b5-3287-4ed9-87da-01e66d19e01f",
   "metadata": {},
   "outputs": [
    {
     "name": "stdout",
     "output_type": "stream",
     "text": [
      "{'1-digit': [4, 3, 3, 3, 5, 2, 9, 8, 1, 9], '2-digits': [83, 39, 12, 42, 12, 61, 58, 42, 59, 62], '3-digits': [899, 899, 916, 836, 274, 395, 131, 106, 326, 363], '4-digits': [1405, 2233, 5435, 9467, 3562, 6212, 6661, 1108, 8851, 3335]}\n"
     ]
    }
   ],
   "source": [
    "#print as a python dictionary\n",
    "print(my_dict)"
   ]
  },
  {
   "cell_type": "code",
   "execution_count": 16,
   "id": "9843c9bc-7b9b-4af6-be9b-9e035538b5f4",
   "metadata": {},
   "outputs": [
    {
     "name": "stdout",
     "output_type": "stream",
     "text": [
      "{\n",
      "    \"1-digit\": [\n",
      "        1,\n",
      "        4,\n",
      "        7,\n",
      "        9,\n",
      "        5,\n",
      "        6,\n",
      "        6,\n",
      "        8,\n",
      "        8,\n",
      "        1\n",
      "    ],\n",
      "    \"2-digits\": [\n",
      "        13,\n",
      "        30,\n",
      "        54,\n",
      "        34,\n",
      "        42,\n",
      "        30,\n",
      "        22,\n",
      "        27,\n",
      "        91,\n",
      "        53\n",
      "    ],\n",
      "    \"3-digits\": [\n",
      "        620,\n",
      "        625,\n",
      "        668,\n",
      "        840,\n",
      "        688,\n",
      "        127,\n",
      "        582,\n",
      "        522,\n",
      "        559,\n",
      "        290\n",
      "    ],\n",
      "    \"4-digits\": [\n",
      "        4462,\n",
      "        3292,\n",
      "        9106,\n",
      "        9502,\n",
      "        2339,\n",
      "        3723,\n",
      "        4617,\n",
      "        6018,\n",
      "        4675,\n",
      "        7533\n",
      "    ]\n",
      "}\n"
     ]
    }
   ],
   "source": [
    "#Pretty print the dictionary\n",
    "print(json.dumps(my_dict, indent=4))"
   ]
  },
  {
   "cell_type": "code",
   "execution_count": 37,
   "id": "24216be6-19b4-4e8a-8606-e70f4f891b71",
   "metadata": {},
   "outputs": [
    {
     "name": "stdout",
     "output_type": "stream",
     "text": [
      "[4, 3, 3, 3, 5, 2, 9, 8, 1, 9]\n",
      "[83, 39, 12, 42, 12, 61, 58, 42, 59, 62]\n",
      "[899, 899, 916, 836, 274, 395, 131, 106, 326, 363]\n",
      "[1405, 2233, 5435, 9467, 3562, 6212, 6661, 1108, 8851, 3335]\n"
     ]
    }
   ],
   "source": [
    "#restore the lists\n",
    "lsts = [lst for lst in my_dict.values()]\n",
    "for lst in lsts:\n",
    "    print(lst)"
   ]
  },
  {
   "cell_type": "code",
   "execution_count": null,
   "id": "432aecf4-e2ba-40ad-9b9d-fa5d5e951b17",
   "metadata": {},
   "outputs": [],
   "source": []
  }
 ],
 "metadata": {
  "kernelspec": {
   "display_name": "Python 3 (ipykernel)",
   "language": "python",
   "name": "python3"
  },
  "language_info": {
   "codemirror_mode": {
    "name": "ipython",
    "version": 3
   },
   "file_extension": ".py",
   "mimetype": "text/x-python",
   "name": "python",
   "nbconvert_exporter": "python",
   "pygments_lexer": "ipython3",
   "version": "3.13.7"
  }
 },
 "nbformat": 4,
 "nbformat_minor": 5
}
