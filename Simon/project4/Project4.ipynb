{
 "cells": [
  {
   "cell_type": "markdown",
   "id": "3ea35a88",
   "metadata": {},
   "source": [
    "# Project 4A"
   ]
  },
  {
   "cell_type": "code",
   "execution_count": 1,
   "id": "552c55a9",
   "metadata": {},
   "outputs": [],
   "source": [
    "import pandas as pd\n",
    "import numpy as np\n",
    "import matplotlib.pyplot as plt\n",
    "from typing import List"
   ]
  },
  {
   "cell_type": "code",
   "execution_count": 2,
   "id": "37016c38-e42b-431a-9e7d-bcd3317278c1",
   "metadata": {},
   "outputs": [],
   "source": [
    "inputFile: str = \"nhanes.csv\""
   ]
  },
  {
   "cell_type": "code",
   "execution_count": 3,
   "id": "82f33512-74b8-44dd-b646-e8f90bff550b",
   "metadata": {},
   "outputs": [],
   "source": [
    "df: pd.DataFrame = pd.read_csv(inputFile)"
   ]
  },
  {
   "cell_type": "markdown",
   "id": "e1838724",
   "metadata": {},
   "source": [
    "1. Take 10 random samples of age data from nhanes, five with a sample size of 20 (A), five with a sample size of 200 (B):   \n",
    "2. Compute the means of each sample in A \n",
    "3. Compute the means of each sample in B\n",
    "4. Compute the population mean (C)\n",
    "5. Compare the results of A, B, C"
   ]
  },
  {
   "cell_type": "code",
   "execution_count": 4,
   "id": "c84cb8bd",
   "metadata": {},
   "outputs": [],
   "source": [
    "# 1. Take 10 random samples of age data from nhanes, five with a sample size of 20 (A), five with a sample size of 200 (B)\n",
    "sample_A: List = [df['Age'].sample(n=20) for i in range(5)]\n",
    "sample_B: List = [df['Age'].sample(n=200) for i in range(5)]"
   ]
  },
  {
   "cell_type": "code",
   "execution_count": 5,
   "id": "5ed3fe8f-99c9-4506-b7bf-afc6cf46492e",
   "metadata": {},
   "outputs": [
    {
     "name": "stdout",
     "output_type": "stream",
     "text": [
      "Means of samples in A (n=20): [31.95, 38.75, 35.45, 39.95, 31.75]\n"
     ]
    }
   ],
   "source": [
    "# 2. Compute the means of each sample in A\n",
    "means_A: List = [s.mean().item() for s in sample_A]\n",
    "print('Means of samples in A (n=20):', means_A)"
   ]
  },
  {
   "cell_type": "code",
   "execution_count": 6,
   "id": "96ccef7b-98af-48be-bbc1-343c0cbba161",
   "metadata": {},
   "outputs": [
    {
     "name": "stdout",
     "output_type": "stream",
     "text": [
      "Means of samples in B (n=200): [38.03, 38.18, 36.155, 37.495, 38.675]\n"
     ]
    }
   ],
   "source": [
    "# 3. Compute the means of each sample in B\n",
    "means_B: List = [s.mean().item() for s in sample_B]\n",
    "print('Means of samples in B (n=200):', means_B)"
   ]
  },
  {
   "cell_type": "code",
   "execution_count": 7,
   "id": "9db1401d-cf10-45b4-9992-9d03f63098c0",
   "metadata": {},
   "outputs": [
    {
     "name": "stdout",
     "output_type": "stream",
     "text": [
      "Population mean (C): 36.7421\n"
     ]
    }
   ],
   "source": [
    "# 4. Compute the population mean (C)\n",
    "mean_C = df['Age'].mean().item()\n",
    "print('Population mean (C):', mean_C)"
   ]
  },
  {
   "cell_type": "code",
   "execution_count": 8,
   "id": "096a3907-04ef-4ddd-8345-73f8071f0798",
   "metadata": {},
   "outputs": [
    {
     "name": "stdout",
     "output_type": "stream",
     "text": [
      "Means of samples in A (n=20): [31.95, 38.75, 35.45, 39.95, 31.75]\n",
      "Means of samples in B (n=200): [38.03, 38.18, 36.155, 37.495, 38.675]\n",
      "Population mean (C): 36.7421\n"
     ]
    }
   ],
   "source": [
    "# 5. Compare the results of A, B, C\n",
    "print('Means of samples in A (n=20):', means_A)\n",
    "print('Means of samples in B (n=200):', means_B)\n",
    "print('Population mean (C):', mean_C)"
   ]
  },
  {
   "cell_type": "markdown",
   "id": "9ec89d09-bf34-4b3d-b066-6840e8b7d279",
   "metadata": {},
   "source": [
    "1. Compute and display the standard deviation of ‘Age’ over the two samples and the population. Anything interesting?\n",
    "2. Compute histograms of\n",
    "    - the age of the population\n",
    "    - one of the samples from A\n",
    "    - one of the samples from B"
   ]
  },
  {
   "cell_type": "code",
   "execution_count": 9,
   "id": "45e99997-74a6-4a93-ab2c-a1ff76208782",
   "metadata": {},
   "outputs": [
    {
     "name": "stdout",
     "output_type": "stream",
     "text": [
      "Standard deviations of samples in A (n=20): [20.78328022334553, 20.98088102108805, 22.511926663554657, 22.141827528814993, 20.393174812847764]\n"
     ]
    }
   ],
   "source": [
    "# 1. Compute and display the standard deviation of ‘Age’ over the two samples and the population\n",
    "stds_A = [s.std(ddof=1).item() for s in sample_A]\n",
    "print('Standard deviations of samples in A (n=20):', stds_A)"
   ]
  },
  {
   "cell_type": "code",
   "execution_count": 10,
   "id": "ccdcc0fc-86d3-453a-a3c8-7573130c3150",
   "metadata": {},
   "outputs": [
    {
     "name": "stdout",
     "output_type": "stream",
     "text": [
      "Standard deviations of samples in B (n=200): [22.367400452781173, 23.84302938494302, 20.850291322693938, 22.285718323761298, 22.514526299088814]\n"
     ]
    }
   ],
   "source": [
    "stds_B = [s.std(ddof=1).item() for s in sample_B]\n",
    "print('Standard deviations of samples in B (n=200):', stds_B)"
   ]
  },
  {
   "cell_type": "code",
   "execution_count": 11,
   "id": "b72e3cd1-2390-4c42-873f-dc531c94136e",
   "metadata": {},
   "outputs": [
    {
     "name": "stdout",
     "output_type": "stream",
     "text": [
      "Population standard deviation: 22.397565775888875\n"
     ]
    }
   ],
   "source": [
    "std_pop = df['Age'].std(ddof=1).item()\n",
    "print('Population standard deviation:', std_pop)"
   ]
  },
  {
   "cell_type": "code",
   "execution_count": 12,
   "id": "b780d4a9",
   "metadata": {},
   "outputs": [],
   "source": [
    "# Use the first sample from each list for illustration\n",
    "pop_ages = df['Age'].dropna()\n",
    "sample_a_1 = sample_A[0].dropna()\n",
    "sample_b_1 = sample_B[0].dropna()"
   ]
  },
  {
   "cell_type": "code",
   "execution_count": 13,
   "id": "9e41d670",
   "metadata": {},
   "outputs": [
    {
     "data": {
      "image/png": "[encoded data removed]",
      "text/plain": [
       "<Figure size 600x400 with 1 Axes>"
      ]
     },
     "metadata": {},
     "output_type": "display_data"
    }
   ],
   "source": [
    "# Plot population histogram\n",
    "plt.figure(figsize=(6,4))\n",
    "plt.hist(pop_ages, bins=20, color='C0', edgecolor='black')\n",
    "plt.title('Population Age Distribution')\n",
    "plt.xlabel('Age')\n",
    "plt.ylabel('Count')\n",
    "plt.tight_layout()\n",
    "plt.show()"
   ]
  },
  {
   "cell_type": "code",
   "execution_count": 14,
   "id": "65883eed",
   "metadata": {},
   "outputs": [
    {
     "data": {
      "image/png": "[encoded data removed]",
      "text/plain": [
       "<Figure size 600x400 with 1 Axes>"
      ]
     },
     "metadata": {},
     "output_type": "display_data"
    }
   ],
   "source": [
    "# Plot sample A\n",
    "plt.figure(figsize=(6,4))\n",
    "plt.hist(sample_a_1, bins=20, color='C1', edgecolor='black')\n",
    "plt.title('Sample A (n=20) - sample 1')\n",
    "plt.xlabel('Age')\n",
    "plt.ylabel('Count')\n",
    "plt.tight_layout()\n",
    "plt.show()"
   ]
  },
  {
   "cell_type": "code",
   "execution_count": 15,
   "id": "7e30774b",
   "metadata": {},
   "outputs": [
    {
     "data": {
      "image/png": "[encoded data removed]",
      "text/plain": [
       "<Figure size 600x400 with 1 Axes>"
      ]
     },
     "metadata": {},
     "output_type": "display_data"
    }
   ],
   "source": [
    "# Plot sample B\n",
    "plt.figure(figsize=(6,4))\n",
    "plt.hist(sample_b_1, bins=20, color='C2', edgecolor='black')\n",
    "plt.title('Sample B (n=200) - sample 1')\n",
    "plt.xlabel('Age')\n",
    "plt.ylabel('Count')\n",
    "plt.tight_layout()\n",
    "plt.show()"
   ]
  },
  {
   "cell_type": "markdown",
   "id": "db59d464-91f8-4303-bafe-b10c512e23a0",
   "metadata": {},
   "source": [
    "## Project 4A Conclusions\n",
    "\n",
    "The data from nhanes is, as expected, more representative of a younger population with a downward trend as the age distribution increases. The age distributions from samples of size 20 represent a more biased slice, wheras the 200 count samples are distributed more equally. Thus, the larger a sample size, the greater the distibution size and, by extension, the greater the variety of data."
   ]
  },
  {
   "cell_type": "markdown",
   "id": "00e3bb58",
   "metadata": {},
   "source": [
    "# Project 4B"
   ]
  },
  {
   "cell_type": "code",
   "execution_count": 16,
   "id": "ba57b894",
   "metadata": {},
   "outputs": [],
   "source": [
    "import pandas as pd\n",
    "import numpy as np\n",
    "import matplotlib.pyplot as plt\n",
    "from typing import List"
   ]
  },
  {
   "cell_type": "code",
   "execution_count": 17,
   "id": "3b154877",
   "metadata": {},
   "outputs": [],
   "source": [
    "inputFile: str = \"nhanes.csv\""
   ]
  },
  {
   "cell_type": "code",
   "execution_count": 18,
   "id": "b8fcdd21",
   "metadata": {},
   "outputs": [],
   "source": [
    "df: pd.DataFrame = pd.read_csv(inputFile)"
   ]
  },
  {
   "cell_type": "markdown",
   "id": "c6918b89",
   "metadata": {},
   "source": [
    "1. What is the probability of a person over 65 having diabetes\n",
    "2. What is the probability of males over 65 having diabetes\n",
    "3. What is the probability of females over 65 having diabetes\n",
    "4. What is the probability of smokers over 65 having diabetes\n",
    "5. Does smoking differ by age? Compute a histogram of smokers with the interval being 10 years."
   ]
  },
  {
   "cell_type": "markdown",
   "id": "8a95d7f7",
   "metadata": {},
   "source": [
    "- Conjecture: Men, women, people over 65, smokers all have different rates of diabetes \n",
    "- Null Hypothesis: All four populations have the same diabetes rate\n",
    "- Alternative Hypothesis: The four populations differ in diabetes rate"
   ]
  },
  {
   "cell_type": "code",
   "execution_count": 19,
   "id": "6bd1b78a",
   "metadata": {},
   "outputs": [
    {
     "name": "stdout",
     "output_type": "stream",
     "text": [
      "      ID SurveyYr  Gender  Age AgeDecade  AgeMonths  Race1 Race3  \\\n",
      "0  51624  2009_10    male   34     30-39      409.0  White   NaN   \n",
      "1  51624  2009_10    male   34     30-39      409.0  White   NaN   \n",
      "2  51624  2009_10    male   34     30-39      409.0  White   NaN   \n",
      "3  51625  2009_10    male    4       0-9       49.0  Other   NaN   \n",
      "4  51630  2009_10  female   49     40-49      596.0  White   NaN   \n",
      "\n",
      "      Education MaritalStatus  ... RegularMarij  AgeRegMarij  HardDrugs  \\\n",
      "0   High School       Married  ...           No          NaN        Yes   \n",
      "1   High School       Married  ...           No          NaN        Yes   \n",
      "2   High School       Married  ...           No          NaN        Yes   \n",
      "3           NaN           NaN  ...          NaN          NaN        NaN   \n",
      "4  Some College   LivePartner  ...           No          NaN        Yes   \n",
      "\n",
      "   SexEver SexAge SexNumPartnLife  SexNumPartYear  SameSex  SexOrientation  \\\n",
      "0      Yes   16.0             8.0             1.0       No    Heterosexual   \n",
      "1      Yes   16.0             8.0             1.0       No    Heterosexual   \n",
      "2      Yes   16.0             8.0             1.0       No    Heterosexual   \n",
      "3      NaN    NaN             NaN             NaN      NaN             NaN   \n",
      "4      Yes   12.0            10.0             1.0      Yes    Heterosexual   \n",
      "\n",
      "   PregnantNow  \n",
      "0          NaN  \n",
      "1          NaN  \n",
      "2          NaN  \n",
      "3          NaN  \n",
      "4          NaN  \n",
      "\n",
      "[5 rows x 76 columns]\n"
     ]
    }
   ],
   "source": [
    "# Create 65 and Up specific DataFrame\n",
    "over_65 = df[df['Age'] > 65]\n",
    "print(df.head())"
   ]
  },
  {
   "cell_type": "code",
   "execution_count": 20,
   "id": "1ad30687",
   "metadata": {},
   "outputs": [
    {
     "name": "stdout",
     "output_type": "stream",
     "text": [
      "Probability of a person over 65 having diabetes: 0.2138047138047138\n"
     ]
    }
   ],
   "source": [
    "# 1. Probability of a person over 65 having diabetes\n",
    "prob_over_65_diabetes = (over_65['Diabetes'] == 'Yes').mean()\n",
    "print(f\"Probability of a person over 65 having diabetes: {prob_over_65_diabetes}\")"
   ]
  },
  {
   "cell_type": "code",
   "execution_count": 21,
   "id": "1b1e3118",
   "metadata": {},
   "outputs": [
    {
     "name": "stdout",
     "output_type": "stream",
     "text": [
      "Probability of a person over 65 having diabetes (male): 0.22\n"
     ]
    }
   ],
   "source": [
    "# 2. Probability of males over 65 having diabetes\n",
    "over_65_male = over_65[over_65['Gender'] == 'male']\n",
    "prob_over_65_male_diabetes = (over_65_male['Diabetes'] == 'Yes').mean()\n",
    "print(f\"Probability of a person over 65 having diabetes (male): {prob_over_65_male_diabetes}\")"
   ]
  },
  {
   "cell_type": "code",
   "execution_count": 22,
   "id": "82d80066",
   "metadata": {},
   "outputs": [
    {
     "name": "stdout",
     "output_type": "stream",
     "text": [
      "Probability of a person over 65 having diabetes (female): 0.20930232558139536\n"
     ]
    }
   ],
   "source": [
    "# 3. Probability of females over 65 having diabetes\n",
    "over_65_female = over_65[over_65['Gender'] == 'female']\n",
    "prob_over_65_female_diabetes = (over_65_female['Diabetes'] == 'Yes').mean()\n",
    "print(f\"Probability of a person over 65 having diabetes (female): {prob_over_65_female_diabetes}\")"
   ]
  },
  {
   "cell_type": "code",
   "execution_count": 23,
   "id": "251d56b2",
   "metadata": {},
   "outputs": [
    {
     "name": "stdout",
     "output_type": "stream",
     "text": [
      "Probability of smokers over 65 having diabetes: 0.12\n"
     ]
    }
   ],
   "source": [
    "# 4. Probability of smokers over 65 having diabetes\n",
    "over_65_smoker = over_65[over_65['SmokeNow'] == 'Yes']\n",
    "prob_over_65_smoker_diabetes = (over_65_smoker['Diabetes'] == 'Yes').mean()\n",
    "print(f\"Probability of smokers over 65 having diabetes: {prob_over_65_smoker_diabetes}\")"
   ]
  },
  {
   "cell_type": "code",
   "execution_count": 24,
   "id": "d97e45ad",
   "metadata": {},
   "outputs": [
    {
     "data": {
      "image/png": "[encoded data removed]",
      "text/plain": [
       "<Figure size 800x500 with 1 Axes>"
      ]
     },
     "metadata": {},
     "output_type": "display_data"
    }
   ],
   "source": [
    "# 5. Does smoking differ by age? Histogram of smokers by age\n",
    "smokers = df[df['SmokeNow'] == 'Yes']\n",
    "plt.figure(figsize=(8,5))\n",
    "plt.hist(smokers['Age'], bins=range(0, int(df['Age'].max())+10, 10), color='brown', edgecolor='black')\n",
    "plt.title('Histogram of Smokers by Age (10-year bins)')\n",
    "plt.xlabel('Age')\n",
    "plt.ylabel('Number of Smokers')\n",
    "plt.show()"
   ]
  },
  {
   "cell_type": "markdown",
   "id": "e983d2b2",
   "metadata": {},
   "source": [
    "# Project 4B Conclusions\n",
    "\n",
    "1. What is the probability of a person over 65 having diabetes - 21.3%\n",
    "2. What is the probability of males over 65 having diabetes - 22.0%\n",
    "3. What is the probability of females over 65 having diabetes - 20.9%\n",
    "4. What is the probability of smokers over 65 having diabetes - 12.0%\n",
    "5. Does smoking differ by age?  Compute a histogram of smokers with the interval being 10 years. - Yes. The peak is for those between 20 and 30 years, with a negative correlation with increase in age."
   ]
  }
 ],
 "metadata": {
  "kernelspec": {
   "display_name": "Python 3 (ipykernel)",
   "language": "python",
   "name": "python3"
  },
  "language_info": {
   "codemirror_mode": {
    "name": "ipython",
    "version": 3
   },
   "file_extension": ".py",
   "mimetype": "text/x-python",
   "name": "python",
   "nbconvert_exporter": "python",
   "pygments_lexer": "ipython3",
   "version": "3.13.9"
  }
 },
 "nbformat": 4,
 "nbformat_minor": 5
}
