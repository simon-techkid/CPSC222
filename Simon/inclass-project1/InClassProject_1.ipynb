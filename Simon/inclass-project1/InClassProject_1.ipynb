{
 "cells": [
  {
   "cell_type": "code",
   "execution_count": 1,
   "id": "16d3048a-5388-4256-8442-c9bc77cfebb6",
   "metadata": {},
   "outputs": [],
   "source": [
    "import statistics\n",
    "import pandas as pd\n",
    "import random\n",
    "import matplotlib.pyplot as plt"
   ]
  },
  {
   "cell_type": "code",
   "execution_count": 2,
   "id": "750ae8f9-eb1a-4e3a-bba0-355c35a7beae",
   "metadata": {},
   "outputs": [],
   "source": [
    "path: str = \"nhanes.csv\""
   ]
  },
  {
   "cell_type": "code",
   "execution_count": 3,
   "id": "7cc04259-a52a-4df0-bb8d-6472a6b1738c",
   "metadata": {},
   "outputs": [],
   "source": [
    "df = pd.read_csv(path)"
   ]
  },
  {
   "cell_type": "code",
   "execution_count": 4,
   "id": "de2fa3e5-a8be-448e-8dd7-b0481d728022",
   "metadata": {},
   "outputs": [
    {
     "name": "stdout",
     "output_type": "stream",
     "text": [
      "      ID SurveyYr  Gender  Age AgeDecade  AgeMonths  Race1 Race3  \\\n",
      "0  51624  2009_10    male   34     30-39      409.0  White   NaN   \n",
      "1  51624  2009_10    male   34     30-39      409.0  White   NaN   \n",
      "2  51624  2009_10    male   34     30-39      409.0  White   NaN   \n",
      "3  51625  2009_10    male    4       0-9       49.0  Other   NaN   \n",
      "4  51630  2009_10  female   49     40-49      596.0  White   NaN   \n",
      "\n",
      "      Education MaritalStatus  ... RegularMarij  AgeRegMarij  HardDrugs  \\\n",
      "0   High School       Married  ...           No          NaN        Yes   \n",
      "1   High School       Married  ...           No          NaN        Yes   \n",
      "2   High School       Married  ...           No          NaN        Yes   \n",
      "3           NaN           NaN  ...          NaN          NaN        NaN   \n",
      "4  Some College   LivePartner  ...           No          NaN        Yes   \n",
      "\n",
      "   SexEver SexAge SexNumPartnLife  SexNumPartYear  SameSex  SexOrientation  \\\n",
      "0      Yes   16.0             8.0             1.0       No    Heterosexual   \n",
      "1      Yes   16.0             8.0             1.0       No    Heterosexual   \n",
      "2      Yes   16.0             8.0             1.0       No    Heterosexual   \n",
      "3      NaN    NaN             NaN             NaN      NaN             NaN   \n",
      "4      Yes   12.0            10.0             1.0      Yes    Heterosexual   \n",
      "\n",
      "   PregnantNow  \n",
      "0          NaN  \n",
      "1          NaN  \n",
      "2          NaN  \n",
      "3          NaN  \n",
      "4          NaN  \n",
      "\n",
      "[5 rows x 76 columns]\n"
     ]
    }
   ],
   "source": [
    "print(df.head())"
   ]
  },
  {
   "cell_type": "code",
   "execution_count": 5,
   "id": "6f64422d-b191-460b-950e-f815cd60f3af",
   "metadata": {},
   "outputs": [
    {
     "name": "stdout",
     "output_type": "stream",
     "text": [
      "0       34\n",
      "1       34\n",
      "2       34\n",
      "3        4\n",
      "4       49\n",
      "        ..\n",
      "9995    28\n",
      "9996     0\n",
      "9997    27\n",
      "9998    60\n",
      "9999    60\n",
      "Name: Age, Length: 10000, dtype: int64\n"
     ]
    }
   ],
   "source": [
    "print(df['Age'])"
   ]
  },
  {
   "cell_type": "code",
   "execution_count": 6,
   "id": "3fc0b801-55b7-4e6d-b156-5631816b72f2",
   "metadata": {},
   "outputs": [],
   "source": [
    "ages = df['Age']"
   ]
  },
  {
   "cell_type": "code",
   "execution_count": 7,
   "id": "ec0812dd-6c4f-472e-b076-101870f6b60d",
   "metadata": {},
   "outputs": [
    {
     "name": "stdout",
     "output_type": "stream",
     "text": [
      "34\n"
     ]
    }
   ],
   "source": [
    "print(df['Age'][0])"
   ]
  },
  {
   "cell_type": "code",
   "execution_count": 8,
   "id": "055bbde1-8c5c-4c21-a2b3-843d344f474f",
   "metadata": {},
   "outputs": [],
   "source": [
    "sampleSize: int = len(df['Age'])"
   ]
  },
  {
   "cell_type": "code",
   "execution_count": 9,
   "id": "e25678a9-8b07-422b-98d2-746a59b463e2",
   "metadata": {},
   "outputs": [
    {
     "name": "stdout",
     "output_type": "stream",
     "text": [
      "[34.95, 44.25, 38.1, 36.0, 42.75]\n",
      "[39.23, 42.305, 38.445, 33.87, 33.495]\n"
     ]
    }
   ],
   "source": [
    "a: list = [];\n",
    "b: list = [];\n",
    "for i in range(5):\n",
    "    num = random.randint(0, sampleSize - 1)\n",
    "    datfr = df['Age'][num:num+20]\n",
    "    a.append(float(datfr.mean()))\n",
    "# sliced_df = df[1:4]\n",
    "\n",
    "for i in range(5):\n",
    "    num = random.randint(0, sampleSize - 1)\n",
    "    datfr = df['Age'][num:num+200]\n",
    "    b.append(float(datfr.mean()))\n",
    "print(a)\n",
    "print(b)"
   ]
  },
  {
   "cell_type": "code",
   "execution_count": 10,
   "id": "bd35c1c0-ffac-4127-8d20-ab4c0abd1000",
   "metadata": {},
   "outputs": [
    {
     "name": "stdout",
     "output_type": "stream",
     "text": [
      "Average A: 39.21\n",
      "Average B: 37.469\n"
     ]
    }
   ],
   "source": [
    "\n",
    "sumA: int = sum(a)\n",
    "avgA: float = sumA / len(a);\n",
    "\n",
    "sumB: int = sum(b)\n",
    "avgB: float = sumB / len(b);\n",
    "\n",
    "print(f\"Average A: {avgA}\")\n",
    "print(f\"Average B: {avgB}\")"
   ]
  },
  {
   "cell_type": "code",
   "execution_count": 11,
   "id": "09a529d9-9850-47cb-a854-e86bfa14f1fb",
   "metadata": {},
   "outputs": [
    {
     "name": "stdout",
     "output_type": "stream",
     "text": [
      "36.7421\n"
     ]
    }
   ],
   "source": [
    "avgA = df['Age'].mean()\n",
    "avgB = df['Age'].mean()\n",
    "print(avgA)"
   ]
  },
  {
   "cell_type": "code",
   "execution_count": 12,
   "id": "4e2aec67-54e0-4168-a794-f692cd75aade",
   "metadata": {},
   "outputs": [
    {
     "data": {
      "image/png": "[encoded data removed]",
      "text/plain": [
       "<Figure size 640x480 with 1 Axes>"
      ]
     },
     "metadata": {},
     "output_type": "display_data"
    }
   ],
   "source": [
    "plt.hist(x=df['Age'], bins=40)\n",
    "plt.show()"
   ]
  },
  {
   "cell_type": "code",
   "execution_count": 13,
   "id": "7e529cdf-3b81-4981-b914-1523a6a1289e",
   "metadata": {},
   "outputs": [
    {
     "name": "stdout",
     "output_type": "stream",
     "text": [
      "{'Heterosexual': 4638, nan: 5158, 'Bisexual': 119, 'Homosexual': 85}\n"
     ]
    }
   ],
   "source": [
    "sexie = df['SexOrientation']\n",
    "dic: dict = {};\n",
    "\n",
    "for element in sexie:\n",
    "    if element in dic:\n",
    "        dic[element] = dic[element] + 1\n",
    "    else:\n",
    "        dic[element] = 1\n",
    "\n",
    "print(dic)"
   ]
  },
  {
   "cell_type": "code",
   "execution_count": 14,
   "id": "966ca383-37cd-43f3-8031-4640253f56aa",
   "metadata": {},
   "outputs": [
    {
     "name": "stdout",
     "output_type": "stream",
     "text": [
      "2000.0\n",
      "0.0\n",
      "15.085065502183406\n",
      "5.0\n"
     ]
    }
   ],
   "source": [
    "datfr = df['SexNumPartnLife']\n",
    "print(datfr.max())\n",
    "print(datfr.min())\n",
    "print(datfr.mean())\n",
    "print(datfr.median())"
   ]
  },
  {
   "cell_type": "code",
   "execution_count": null,
   "id": "a80cc6ae-9f32-4156-8837-bc65029dfd0c",
   "metadata": {},
   "outputs": [],
   "source": []
  }
 ],
 "metadata": {
  "kernelspec": {
   "display_name": "Python 3 (ipykernel)",
   "language": "python",
   "name": "python3"
  },
  "language_info": {
   "codemirror_mode": {
    "name": "ipython",
    "version": 3
   },
   "file_extension": ".py",
   "mimetype": "text/x-python",
   "name": "python",
   "nbconvert_exporter": "python",
   "pygments_lexer": "ipython3",
   "version": "3.13.7"
  }
 },
 "nbformat": 4,
 "nbformat_minor": 5
}
