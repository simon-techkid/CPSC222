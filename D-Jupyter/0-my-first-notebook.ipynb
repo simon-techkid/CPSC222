{
 "cells": [
  {
   "cell_type": "markdown",
   "id": "2fd4358a-2742-4768-a458-9ddddc454db7",
   "metadata": {},
   "source": [
    "# Jupyter 1: List comprehension and simple loop"
   ]
  },
  {
   "cell_type": "code",
   "execution_count": 1,
   "id": "74f50948-cdc0-48e1-b00a-d30861a4f3bc",
   "metadata": {},
   "outputs": [],
   "source": [
    "import random"
   ]
  },
  {
   "cell_type": "code",
   "execution_count": 2,
   "id": "48d42aa7-ff1a-4b24-98db-ea0473f35d37",
   "metadata": {},
   "outputs": [],
   "source": [
    "lst = [random.randint(0,10) for i in range(10)]"
   ]
  },
  {
   "cell_type": "code",
   "execution_count": 3,
   "id": "4f4f00bb-aefb-4bc1-839d-823ba9c255d4",
   "metadata": {},
   "outputs": [
    {
     "name": "stdout",
     "output_type": "stream",
     "text": [
      "[6, 5, 7, 10, 10, 8, 0, 2, 3, 5]\n"
     ]
    }
   ],
   "source": [
    "print(lst)"
   ]
  },
  {
   "cell_type": "code",
   "execution_count": 4,
   "id": "78af98ff-0273-4dfb-ac2e-f63ec4cb62b7",
   "metadata": {},
   "outputs": [],
   "source": [
    "sum = 0"
   ]
  },
  {
   "cell_type": "code",
   "execution_count": 5,
   "id": "9a5c4034-e375-4e53-9aae-4633711be169",
   "metadata": {},
   "outputs": [],
   "source": [
    "for item in lst:\n",
    "    sum = sum + item"
   ]
  },
  {
   "cell_type": "code",
   "execution_count": 6,
   "id": "268c6d47-460f-422d-8a7f-684110da78e0",
   "metadata": {},
   "outputs": [
    {
     "name": "stdout",
     "output_type": "stream",
     "text": [
      "56\n"
     ]
    }
   ],
   "source": [
    "print(sum)"
   ]
  },
  {
   "cell_type": "code",
   "execution_count": null,
   "id": "7b6443db-11eb-4ba7-a7cc-4fe2b67ab038",
   "metadata": {},
   "outputs": [],
   "source": []
  }
 ],
 "metadata": {
  "kernelspec": {
   "display_name": "Python 3 (ipykernel)",
   "language": "python",
   "name": "python3"
  },
  "language_info": {
   "codemirror_mode": {
    "name": "ipython",
    "version": 3
   },
   "file_extension": ".py",
   "mimetype": "text/x-python",
   "name": "python",
   "nbconvert_exporter": "python",
   "pygments_lexer": "ipython3",
   "version": "3.13.7"
  }
 },
 "nbformat": 4,
 "nbformat_minor": 5
}
