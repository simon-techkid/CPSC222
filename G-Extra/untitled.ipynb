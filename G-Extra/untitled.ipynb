{
 "cells": [
  {
   "cell_type": "code",
   "execution_count": 37,
   "id": "31f22bd2-5765-4c93-b80c-0f98ed2aabab",
   "metadata": {},
   "outputs": [
    {
     "name": "stdout",
     "output_type": "stream",
     "text": [
      "         Country      Continent  SurfaceArea  Population  Density  \\\n",
      "0          China           Asia      9572900  1277558000      133   \n",
      "1     Bangladesh           Asia       143998   129155000      897   \n",
      "2         Brazil  South America      8547403   170115000       20   \n",
      "3          India           Asia      3287263  1013662000      308   \n",
      "4         Norway         Europe       385207     5379000       14   \n",
      "5  United States  North America      9363520   278357000       30   \n",
      "\n",
      "  IndependenceDate OfficialLanguage  Percentage  \n",
      "0       1949-10-01         Mandarin        0.81  \n",
      "1       1905-05-24          Bengali        0.98  \n",
      "2       1822-09-07       Portuguese        0.98  \n",
      "3       1905-04-30            Hindi        0.40  \n",
      "4       1905-05-17        Norwegian        0.97  \n",
      "5       1776-07-04          English        0.86  \n",
      "<class 'pandas.core.frame.DataFrame'>\n",
      "RangeIndex: 6 entries, 0 to 5\n",
      "Data columns (total 8 columns):\n",
      " #   Column            Non-Null Count  Dtype  \n",
      "---  ------            --------------  -----  \n",
      " 0   Country           6 non-null      object \n",
      " 1   Continent         6 non-null      object \n",
      " 2   SurfaceArea       6 non-null      int64  \n",
      " 3   Population        6 non-null      int64  \n",
      " 4   Density           6 non-null      int64  \n",
      " 5   IndependenceDate  6 non-null      object \n",
      " 6   OfficialLanguage  6 non-null      object \n",
      " 7   Percentage        6 non-null      float64\n",
      "dtypes: float64(1), int64(3), object(4)\n",
      "memory usage: 516.0+ bytes\n"
     ]
    }
   ],
   "source": [
    "import pandas as pd\n",
    "import numpy as np\n",
    "import matplotlib.pyplot as plt\n",
    "PATH = \"/Users/depalma/Desktop/CPSC222/A-Data/\"\n",
    "DS = \"country.csv\"\n",
    "fin = PATH + DS\n",
    "  \n",
    "country = pd.read_csv(fin)\n",
    "print(country)\n",
    "country.info()\n",
    "\n"
   ]
  },
  {
   "cell_type": "code",
   "execution_count": 34,
   "id": "242bb386-52cb-48da-a389-2693067baf75",
   "metadata": {},
   "outputs": [],
   "source": [
    "df = country.loc[\n",
    "    country[\"Continent\"] == 'Asia', [\"Country\", \"OfficialLanguage\"]\n",
    "]\n",
    "               "
   ]
  },
  {
   "cell_type": "code",
   "execution_count": 35,
   "id": "91d1dd79-34f4-46c4-8fda-672570ef1ef9",
   "metadata": {},
   "outputs": [
    {
     "name": "stdout",
     "output_type": "stream",
     "text": [
      "      Country OfficialLanguage\n",
      "0       China         Mandarin\n",
      "1  Bangladesh          Bengali\n",
      "3       India            Hindi\n"
     ]
    }
   ],
   "source": [
    "print (df)"
   ]
  },
  {
   "cell_type": "code",
   "execution_count": null,
   "id": "0c054b73-9a18-4e86-bbfe-44962a4e41b7",
   "metadata": {},
   "outputs": [],
   "source": []
  }
 ],
 "metadata": {
  "kernelspec": {
   "display_name": "Python 3 (ipykernel)",
   "language": "python",
   "name": "python3"
  },
  "language_info": {
   "codemirror_mode": {
    "name": "ipython",
    "version": 3
   },
   "file_extension": ".py",
   "mimetype": "text/x-python",
   "name": "python",
   "nbconvert_exporter": "python",
   "pygments_lexer": "ipython3",
   "version": "3.13.7"
  }
 },
 "nbformat": 4,
 "nbformat_minor": 5
}
