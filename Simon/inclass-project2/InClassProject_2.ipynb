{
 "cells": [
  {
   "cell_type": "code",
   "execution_count": 1,
   "id": "16d3048a-5388-4256-8442-c9bc77cfebb6",
   "metadata": {},
   "outputs": [],
   "source": [
    "import statistics\n",
    "import pandas as pd\n",
    "import random\n",
    "import matplotlib.pyplot as plt"
   ]
  },
  {
   "cell_type": "code",
   "execution_count": 2,
   "id": "750ae8f9-eb1a-4e3a-bba0-355c35a7beae",
   "metadata": {},
   "outputs": [],
   "source": [
    "path: str = \"nhanes.csv\""
   ]
  },
  {
   "cell_type": "code",
   "execution_count": 3,
   "id": "7cc04259-a52a-4df0-bb8d-6472a6b1738c",
   "metadata": {},
   "outputs": [],
   "source": [
    "df = pd.read_csv(path)"
   ]
  },
  {
   "cell_type": "code",
   "execution_count": 4,
   "id": "de2fa3e5-a8be-448e-8dd7-b0481d728022",
   "metadata": {},
   "outputs": [
    {
     "name": "stdout",
     "output_type": "stream",
     "text": [
      "Index(['ID', 'SurveyYr', 'Gender', 'Age', 'AgeDecade', 'AgeMonths', 'Race1',\n",
      "       'Race3', 'Education', 'MaritalStatus', 'HHIncome', 'HHIncomeMid',\n",
      "       'Poverty', 'HomeRooms', 'HomeOwn', 'Work', 'Weight', 'Length',\n",
      "       'HeadCirc', 'Height', 'BMI', 'BMICatUnder20yrs', 'BMI_WHO', 'Pulse',\n",
      "       'BPSysAve', 'BPDiaAve', 'BPSys1', 'BPDia1', 'BPSys2', 'BPDia2',\n",
      "       'BPSys3', 'BPDia3', 'Testosterone', 'DirectChol', 'TotChol',\n",
      "       'UrineVol1', 'UrineFlow1', 'UrineVol2', 'UrineFlow2', 'Diabetes',\n",
      "       'DiabetesAge', 'HealthGen', 'DaysPhysHlthBad', 'DaysMentHlthBad',\n",
      "       'LittleInterest', 'Depressed', 'nPregnancies', 'nBabies', 'Age1stBaby',\n",
      "       'SleepHrsNight', 'SleepTrouble', 'PhysActive', 'PhysActiveDays',\n",
      "       'TVHrsDay', 'CompHrsDay', 'TVHrsDayChild', 'CompHrsDayChild',\n",
      "       'Alcohol12PlusYr', 'AlcoholDay', 'AlcoholYear', 'SmokeNow', 'Smoke100',\n",
      "       'Smoke100n', 'SmokeAge', 'Marijuana', 'AgeFirstMarij', 'RegularMarij',\n",
      "       'AgeRegMarij', 'HardDrugs', 'SexEver', 'SexAge', 'SexNumPartnLife',\n",
      "       'SexNumPartYear', 'SameSex', 'SexOrientation', 'PregnantNow'],\n",
      "      dtype='object')\n"
     ]
    }
   ],
   "source": [
    "print(df.columns)"
   ]
  },
  {
   "cell_type": "code",
   "execution_count": 5,
   "id": "6783c6ec-e406-47c0-9a84-817ada918145",
   "metadata": {},
   "outputs": [],
   "source": [
    "totalNum = len(df)"
   ]
  },
  {
   "cell_type": "code",
   "execution_count": 6,
   "id": "6f64422d-b191-460b-950e-f815cd60f3af",
   "metadata": {},
   "outputs": [],
   "source": [
    "df65Plus = df[df['Age'] > 65]\n",
    "numOver65 = len(df65Plus)"
   ]
  },
  {
   "cell_type": "code",
   "execution_count": 7,
   "id": "f90cdbd1-d1c0-4099-a7bc-de2c6d8b0718",
   "metadata": {},
   "outputs": [
    {
     "name": "stdout",
     "output_type": "stream",
     "text": [
      "Number of people over 65: 1188\n"
     ]
    }
   ],
   "source": [
    "print(f\"Number of people over 65: {numOver65}\")"
   ]
  },
  {
   "cell_type": "code",
   "execution_count": 8,
   "id": "fb8e0bd7-bc64-4a6e-ab93-b3c6db71cbb1",
   "metadata": {},
   "outputs": [
    {
     "name": "stdout",
     "output_type": "stream",
     "text": [
      "Probability over 65: 11.88%\n"
     ]
    }
   ],
   "source": [
    "print(f\"Probability over 65: {(numOver65 / totalNum) * 100}%\")"
   ]
  },
  {
   "cell_type": "code",
   "execution_count": 9,
   "id": "9e32d859-c203-434f-85d4-3ec7411fdf79",
   "metadata": {},
   "outputs": [],
   "source": [
    "df4565 = df[(df['Age'] >= 45) & (df['Age'] <= 65)]\n",
    "numBetween45And65 = len(df4565)"
   ]
  },
  {
   "cell_type": "code",
   "execution_count": 10,
   "id": "5088fec6-552d-49aa-b15a-dc1993cda7a4",
   "metadata": {},
   "outputs": [
    {
     "name": "stdout",
     "output_type": "stream",
     "text": [
      "Number of people between 45 and 65: 2642\n"
     ]
    }
   ],
   "source": [
    "print(f\"Number of people between 45 and 65: {numBetween45And65}\")"
   ]
  },
  {
   "cell_type": "code",
   "execution_count": 11,
   "id": "d9134e35-2dfa-4786-8b6e-5307bbd35cd9",
   "metadata": {},
   "outputs": [
    {
     "name": "stdout",
     "output_type": "stream",
     "text": [
      "Probability between 45 and 65: 26.419999999999998%\n"
     ]
    }
   ],
   "source": [
    "print(f\"Probability between 45 and 65: {(numBetween45And65 / totalNum) * 100}%\")"
   ]
  },
  {
   "cell_type": "code",
   "execution_count": 12,
   "id": "fd87ad36-7b83-4c3b-bfce-81bc2149deab",
   "metadata": {},
   "outputs": [
    {
     "name": "stdout",
     "output_type": "stream",
     "text": [
      "Number of Women between 45 and 65: 1299 (49.167297501892506%)\n",
      "Number of Men between 45 and 65: 1343 (50.832702498107494%)\n"
     ]
    }
   ],
   "source": [
    "numBetween45And65Women = df4565[df4565['Gender'] == 'female']\n",
    "print(f\"Number of Women between 45 and 65: {len(numBetween45And65Women)} ({(len(numBetween45And65Women) / len(df4565)) * 100}%)\")\n",
    "numBetween45And65Men = df4565[df4565['Gender'] == 'male']\n",
    "print(f\"Number of Men between 45 and 65: {len(numBetween45And65Men)} ({(len(numBetween45And65Men) / len(df4565)) * 100}%)\")"
   ]
  },
  {
   "cell_type": "code",
   "execution_count": 13,
   "id": "23c00d5b-35bc-4445-9c75-d8f73378fa1d",
   "metadata": {},
   "outputs": [
    {
     "name": "stdout",
     "output_type": "stream",
     "text": [
      "Number Smoke between 45 and 65: 551 (20.8554125662377%)\n",
      "Number Smoke between Above 65: 100 (8.417508417508419%)\n"
     ]
    }
   ],
   "source": [
    "numSmokeBetween45And65 = df4565[df4565['SmokeNow'] == 'Yes']\n",
    "print(f\"Number Smoke between 45 and 65: {len(numSmokeBetween45And65)} ({(len(numSmokeBetween45And65) / len(df4565)) * 100}%)\")\n",
    "numSmokeAbove65 = df65Plus[df65Plus['SmokeNow'] == 'Yes']\n",
    "print(f\"Number Smoke between Above 65: {len(numSmokeAbove65)} ({(len(numSmokeAbove65) / len(df65Plus)) * 100}%)\")"
   ]
  }
 ],
 "metadata": {
  "kernelspec": {
   "display_name": "Python 3 (ipykernel)",
   "language": "python",
   "name": "python3"
  },
  "language_info": {
   "codemirror_mode": {
    "name": "ipython",
    "version": 3
   },
   "file_extension": ".py",
   "mimetype": "text/x-python",
   "name": "python",
   "nbconvert_exporter": "python",
   "pygments_lexer": "ipython3",
   "version": "3.13.7"
  }
 },
 "nbformat": 4,
 "nbformat_minor": 5
}
