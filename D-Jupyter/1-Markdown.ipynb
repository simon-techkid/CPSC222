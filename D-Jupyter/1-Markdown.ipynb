{
 "cells": [
  {
   "attachments": {},
   "cell_type": "markdown",
   "id": "b69eca68-dde4-42e7-98df-aee9db68f909",
   "metadata": {},
   "source": [
    "# Jupyter 2: Using the Markdown Feature\n"
   ]
  },
  {
   "cell_type": "markdown",
   "id": "74ef3d9d-7614-4840-9a38-9cabb9732b97",
   "metadata": {},
   "source": [
    "Text"
   ]
  },
  {
   "cell_type": "markdown",
   "id": "d66bb445-a38e-4e25-b384-ec1e3a037d15",
   "metadata": {},
   "source": [
    "### Bigger"
   ]
  },
  {
   "cell_type": "markdown",
   "id": "542b4eae-ed78-49b1-8684-8727f18d7cf8",
   "metadata": {},
   "source": [
    "## Even Bigger"
   ]
  },
  {
   "cell_type": "markdown",
   "id": "8fead47c-f34b-43b7-83f6-cd170cd6aa12",
   "metadata": {},
   "source": [
    "# Biggest"
   ]
  },
  {
   "cell_type": "code",
   "execution_count": null,
   "id": "6924bbf1-aded-4c7c-9a34-dbb7598edf05",
   "metadata": {},
   "outputs": [],
   "source": [
    "'''\n",
    "Instructions:\n",
    "Click the Code key on the tool bar above\n",
    "Chose Markdown\n",
    "Three possiblities\n",
    "--Enter Rext, then shift + enter for the smallest markdown\n",
    "--Enter ### Text, then shift + enter for slightly larger\n",
    "--Enter ## Text, then hift + enter for even larger\n",
    "--Enter # Text, then shift + enter for the largest\n",
    "\n",
    "To Edit:\n",
    "--Go to the markdown cell you want to edit\n",
    "--Double click\n",
    "--shift + enter\n",
    "'''"
   ]
  }
 ],
 "metadata": {
  "kernelspec": {
   "display_name": "Python 3 (ipykernel)",
   "language": "python",
   "name": "python3"
  },
  "language_info": {
   "codemirror_mode": {
    "name": "ipython",
    "version": 3
   },
   "file_extension": ".py",
   "mimetype": "text/x-python",
   "name": "python",
   "nbconvert_exporter": "python",
   "pygments_lexer": "ipython3",
   "version": "3.13.7"
  }
 },
 "nbformat": 4,
 "nbformat_minor": 5
}
