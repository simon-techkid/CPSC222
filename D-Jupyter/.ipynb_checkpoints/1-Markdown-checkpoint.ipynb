{
 "cells": [
  {
   "attachments": {},
   "cell_type": "markdown",
   "id": "b69eca68-dde4-42e7-98df-aee9db68f909",
   "metadata": {},
   "source": [
    "# Jupyter 2: Using the Markdown Feature\n"
   ]
  },
  {
   "cell_type": "code",
   "execution_count": null,
   "id": "7bfc5224-6c8a-47f2-918a-f06c4f1deaad",
   "metadata": {},
   "outputs": [],
   "source": [
    "''' \n",
    "A,M must be upper case \n",
    "esc -> A To create a cell above the current cell \n",
    "esc -> M To make it markdownable \n",
    "Enter your text \n",
    "shift + enter To render the cell \n",
    "\n",
    "To edit\n",
    "    double click the markdown \n",
    "    Edit the text\n",
    "    shift + enter to render the cell\n",
    "'''"
   ]
  },
  {
   "cell_type": "code",
   "execution_count": null,
   "id": "8b1848a1-2e4e-4608-8295-c64c7bb4142b",
   "metadata": {},
   "outputs": [],
   "source": []
  }
 ],
 "metadata": {
  "kernelspec": {
   "display_name": "Python 3 (ipykernel)",
   "language": "python",
   "name": "python3"
  },
  "language_info": {
   "codemirror_mode": {
    "name": "ipython",
    "version": 3
   },
   "file_extension": ".py",
   "mimetype": "text/x-python",
   "name": "python",
   "nbconvert_exporter": "python",
   "pygments_lexer": "ipython3",
   "version": "3.13.7"
  }
 },
 "nbformat": 4,
 "nbformat_minor": 5
}
