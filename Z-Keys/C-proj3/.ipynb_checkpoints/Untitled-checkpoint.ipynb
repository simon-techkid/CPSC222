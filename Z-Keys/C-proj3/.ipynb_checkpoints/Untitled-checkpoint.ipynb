{
 "cells": [
  {
   "cell_type": "code",
   "execution_count": 2,
   "id": "da206f73-3a0e-45a3-a6b5-e636930b9ab3",
   "metadata": {},
   "outputs": [],
   "source": [
    "import re\n",
    "import sys\n",
    "from operator import itemgetter\n",
    "import matplotlib.pyplot as plt\n",
    "import math\n",
    "\n",
    "PATH = \"/Users/depalma/Desktop/CPSC222/A-Data/\"\n",
    "MM = \"middlemarch.txt\"\n",
    "MR = \"the_masque_of_the_red_death.txt\"\n",
    "UL = \"ulysses.txt\"\n",
    "YT = \"yeats.txt\"\n",
    "\n",
    "fin = PATH +  YT\n",
    "plotType = \"LL\"\n",
    "#plotType = \"C\""
   ]
  },
  {
   "cell_type": "code",
   "execution_count": 3,
   "id": "a6145303-ac8a-404a-9ab7-95d2f78f43b4",
   "metadata": {},
   "outputs": [],
   "source": [
    "#Read in Data\n",
    "with open(fin, 'r', encoding='utf-8') as f:\n",
    "   text = f.read()\n"
   ]
  },
  {
   "cell_type": "code",
   "execution_count": 4,
   "id": "9f7fb5af-a135-4ca2-86b5-684be2440c44",
   "metadata": {},
   "outputs": [],
   "source": [
    "#Tokenize\n",
    "string = re.sub('\\n',' ', text)\n",
    "\n",
    "#create a list containing all lower case characters\n",
    "good_chars = [chr(value) for value in range(ord('a'),ord('z') + 1,1)]\n",
    "good_chars.append(' ') #spaces are good characters\n",
    "string = string.lower()\n",
    "\n",
    "new_str = ''\n",
    "for ch in string:\n",
    "   if ch in good_chars:\n",
    "      new_str = new_str + ch\n",
    "\n",
    "#remove spaces\n",
    "lst = new_str.split()\n",
    "\n",
    "   \n"
   ]
  },
  {
   "cell_type": "code",
   "execution_count": 5,
   "id": "4f092712-44d5-4a46-9a15-1a677938c27c",
   "metadata": {},
   "outputs": [],
   "source": [
    "'''\n",
    "count_dict = {}\n",
    "for word in lst:\n",
    "   if word in count_dict:\n",
    "      count_dict[word] = count_dict[word] + 1\n",
    "   else:\n",
    "      count_dict[word] = 1\n",
    "'''    \n",
    "cnt_dict = {word:lst.count(word) for word in lst}\n"
   ]
  },
  {
   "cell_type": "code",
   "execution_count": 23,
   "id": "6eb82c4d-b21e-434c-be7f-0902e8d02120",
   "metadata": {},
   "outputs": [
    {
     "name": "stdout",
     "output_type": "stream",
     "text": [
      "{'where': 2, 'dips': 1, 'the': 7, 'rocky': 1, 'highland': 1, 'from': 1, 'fernwood': 1, 'to': 2, 'lake': 1, 'there': 2, 'sits': 1, 'a': 2, 'leafy': 1, 'island': 1, 'flapping': 1, 'herons': 1, 'wake': 1, 'drowsy': 1, 'river': 1, 'rats': 1, 'we': 1, 'store': 1, 'our': 1, 'faerie': 2, 'vats': 1, 'full': 2, 'of': 2, 'berries': 1, 'and': 2, 'ripest': 1, 'stolen': 2, 'cherries': 1, 'come': 1, 'away': 1, 'o': 1, 'human': 1, 'child': 2, 'waters': 1, 'wild': 1, 'with': 1, 'hand': 2, 'in': 1, 'worlds': 1, 'more': 1, 'weeping': 1, 'than': 1, 'you': 1, 'can': 1, 'understand': 1, 'wb': 1, 'yeats': 1}\n",
      "\n",
      "{'where': 2, 'dips': 1, 'the': 7, 'rocky': 1, 'highland': 1, 'from': 1, 'fernwood': 1, 'to': 2, 'lake': 1, 'there': 2, 'sits': 1, 'a': 2, 'leafy': 1, 'island': 1, 'flapping': 1, 'herons': 1, 'wake': 1, 'drowsy': 1, 'river': 1, 'rats': 1, 'we': 1, 'store': 1, 'our': 1, 'faerie': 2, 'vats': 1, 'full': 2, 'of': 2, 'berries': 1, 'and': 2, 'ripest': 1, 'stolen': 2, 'cherries': 1, 'come': 1, 'away': 1, 'o': 1, 'human': 1, 'child': 2, 'waters': 1, 'wild': 1, 'with': 1, 'hand': 2, 'in': 1, 'worlds': 1, 'more': 1, 'weeping': 1, 'than': 1, 'you': 1, 'can': 1, 'understand': 1, 'wb': 1, 'yeats': 1}\n"
     ]
    }
   ],
   "source": []
  },
  {
   "cell_type": "code",
   "execution_count": null,
   "id": "9611fb5c-5752-43ae-a0b9-f37f048a567a",
   "metadata": {},
   "outputs": [],
   "source": []
  }
 ],
 "metadata": {
  "kernelspec": {
   "display_name": "Python 3 (ipykernel)",
   "language": "python",
   "name": "python3"
  },
  "language_info": {
   "codemirror_mode": {
    "name": "ipython",
    "version": 3
   },
   "file_extension": ".py",
   "mimetype": "text/x-python",
   "name": "python",
   "nbconvert_exporter": "python",
   "pygments_lexer": "ipython3",
   "version": "3.13.7"
  }
 },
 "nbformat": 4,
 "nbformat_minor": 5
}
