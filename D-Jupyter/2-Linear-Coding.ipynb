{
 "cells": [
  {
   "cell_type": "markdown",
   "id": "4c91af2b-f79b-4aa7-a940-501ca1d8e38f",
   "metadata": {},
   "source": [
    "# Jupyter 2: Old-Fashioned Coding with a Twist"
   ]
  },
  {
   "cell_type": "code",
   "execution_count": 1,
   "id": "8b340240-b40d-4689-af51-8565756a3877",
   "metadata": {},
   "outputs": [],
   "source": [
    "import random\n",
    "from operator import itemgetter"
   ]
  },
  {
   "cell_type": "code",
   "execution_count": 2,
   "id": "2d4139dc-2c78-4e4f-935b-aa3c6e96c77a",
   "metadata": {},
   "outputs": [],
   "source": [
    "ct = 15\n",
    "lst = [random.randint(0,ct) for i in range(ct)]"
   ]
  },
  {
   "cell_type": "code",
   "execution_count": 3,
   "id": "12eb02d8-cb8a-4a0c-98fb-c43a06a6becf",
   "metadata": {},
   "outputs": [
    {
     "name": "stdout",
     "output_type": "stream",
     "text": [
      "[10, 11, 1, 7, 11, 7, 0, 5, 9, 7, 8, 9, 2, 14, 6]\n"
     ]
    }
   ],
   "source": [
    "print(lst)"
   ]
  },
  {
   "cell_type": "code",
   "execution_count": 4,
   "id": "25d0db30-2101-4da3-b710-cd8c5c1d8459",
   "metadata": {},
   "outputs": [],
   "source": [
    "ct_dict = {}\n",
    "for num in lst:\n",
    "    if num in ct_dict:\n",
    "        ct_dict[num] = ct_dict[num] + 1\n",
    "    else:\n",
    "        ct_dict[num] = 1"
   ]
  },
  {
   "cell_type": "code",
   "execution_count": 5,
   "id": "3b4b9c64-d29e-43e7-8873-94d3229724d7",
   "metadata": {},
   "outputs": [
    {
     "name": "stdout",
     "output_type": "stream",
     "text": [
      "[(7, 3), (11, 2), (9, 2), (10, 1), (1, 1), (0, 1), (5, 1), (8, 1), (2, 1), (14, 1), (6, 1)]\n"
     ]
    }
   ],
   "source": [
    "new_lst = sorted(ct_dict.items(), key = itemgetter(1), reverse = True)\n",
    "print(new_lst)\n"
   ]
  },
  {
   "cell_type": "code",
   "execution_count": 6,
   "id": "bbdeec6f-e235-4462-86ab-a130ddd68ad2",
   "metadata": {},
   "outputs": [
    {
     "name": "stdout",
     "output_type": "stream",
     "text": [
      "1:   7 occurs 3 time(s)\n",
      "2:   11 occurs 2 time(s)\n",
      "3:   9 occurs 2 time(s)\n",
      "4:   10 occurs 1 time(s)\n",
      "5:   1 occurs 1 time(s)\n",
      "6:   0 occurs 1 time(s)\n",
      "7:   5 occurs 1 time(s)\n",
      "8:   8 occurs 1 time(s)\n",
      "9:   2 occurs 1 time(s)\n",
      "10:   14 occurs 1 time(s)\n",
      "11:   6 occurs 1 time(s)\n"
     ]
    }
   ],
   "source": [
    "for i, item in enumerate(new_lst):\n",
    "      print(f\"{i+1}:   {item[0]} occurs {item[1]} time(s)\") "
   ]
  },
  {
   "cell_type": "code",
   "execution_count": null,
   "id": "298f17a2-555f-46be-9d26-7443a7bcf4f0",
   "metadata": {},
   "outputs": [],
   "source": []
  }
 ],
 "metadata": {
  "kernelspec": {
   "display_name": "Python 3 (ipykernel)",
   "language": "python",
   "name": "python3"
  },
  "language_info": {
   "codemirror_mode": {
    "name": "ipython",
    "version": 3
   },
   "file_extension": ".py",
   "mimetype": "text/x-python",
   "name": "python",
   "nbconvert_exporter": "python",
   "pygments_lexer": "ipython3",
   "version": "3.13.7"
  }
 },
 "nbformat": 4,
 "nbformat_minor": 5
}
