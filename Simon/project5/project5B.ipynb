{
 "cells": [
  {
   "cell_type": "markdown",
   "id": "32bac0dd",
   "metadata": {},
   "source": [
    "# Project 5B - Introduction to Linear Regression"
   ]
  },
  {
   "cell_type": "markdown",
   "id": "05178e77",
   "metadata": {},
   "source": [
    "Project 5B\n",
    "1. Using Jupyter and the following: \n",
    "    - The equations found under these headings in Zybooks Section 7.2:\n",
    "        “The least-squares regression line”\n",
    "        “The correlation coefficient  and least-squares regression”\n",
    "\n",
    "    - The equation for the regression line: \n",
    "        y-hat = 0.488*latitude - 3.704, and \n",
    "        calculate the numbers shown in the boxes in Participation Activity 7.2.5.  Notice that the authors use b1 for the slope and bo for y-intercept instead of the more common m and b.\n",
    "\n",
    "2. Since we now know that there appears to be a correlation between age and diabetes, using those columns from the nhanes data set, along with the scikit-learn methods found in the Jupyter exercise 7.2.1 (Simple Linear Regression in Python), do boxes 1 - 11 and 13.  These use scikit-learn to fit a linear regression line to data and to extract important relationships, like what proportion of diabetes cases are explained by age. "
   ]
  },
  {
   "cell_type": "code",
   "execution_count": 1,
   "id": "65bd0be7-41f4-429d-804a-c1a27b950ee4",
   "metadata": {},
   "outputs": [],
   "source": [
    "# Import packages\n",
    "\n",
    "import matplotlib.pyplot as plt\n",
    "import pandas as pd\n",
    "import numpy as np\n",
    "from sklearn.linear_model import LinearRegression\n",
    "from sklearn.feature_selection import r_regression"
   ]
  },
  {
   "cell_type": "markdown",
   "id": "3aeb6ad3",
   "metadata": {},
   "source": [
    "## Crabs"
   ]
  },
  {
   "cell_type": "code",
   "execution_count": 2,
   "id": "a2207369",
   "metadata": {},
   "outputs": [],
   "source": [
    "# Import data\n",
    "crabs = pd.read_csv('crab-groups.csv')\n",
    "\n",
    "# Store relevant columns as variables\n",
    "X = crabs[['latitude']].values.reshape(-1, 1)\n",
    "y = crabs[['mean_mm']].values.reshape(-1, 1)"
   ]
  },
  {
   "cell_type": "code",
   "execution_count": 3,
   "id": "a5df5eeb",
   "metadata": {},
   "outputs": [],
   "source": [
    "linModel = LinearRegression()\n",
    "linModel.fit(X, y)\n",
    "yPredicted = linModel.predict(X)"
   ]
  },
  {
   "cell_type": "markdown",
   "id": "cb629cb2",
   "metadata": {},
   "source": [
    "### Slope"
   ]
  },
  {
   "cell_type": "code",
   "execution_count": 4,
   "id": "ca7ffada",
   "metadata": {},
   "outputs": [
    {
     "name": "stdout",
     "output_type": "stream",
     "text": [
      "0.488345915733499\n"
     ]
    }
   ],
   "source": [
    "slopeCrabs = linModel.coef_\n",
    "print(slopeCrabs[0][0])"
   ]
  },
  {
   "cell_type": "markdown",
   "id": "42dec41b",
   "metadata": {},
   "source": [
    "### Intercept"
   ]
  },
  {
   "cell_type": "code",
   "execution_count": 5,
   "id": "47a60107",
   "metadata": {},
   "outputs": [
    {
     "name": "stdout",
     "output_type": "stream",
     "text": [
      "-3.7039348302831545\n"
     ]
    }
   ],
   "source": [
    "interceptCrabs = linModel.intercept_\n",
    "print(interceptCrabs[0])"
   ]
  },
  {
   "cell_type": "markdown",
   "id": "d2d61c24",
   "metadata": {},
   "source": [
    "### The Equation for the Regression Line"
   ]
  },
  {
   "cell_type": "code",
   "execution_count": 6,
   "id": "7822584d",
   "metadata": {},
   "outputs": [
    {
     "name": "stdout",
     "output_type": "stream",
     "text": [
      "Proportion of variation explained by Mean length = -3.70 + 0.488 * (latitude)\n"
     ]
    }
   ],
   "source": [
    "print(f\"Proportion of variation explained by Mean length = {interceptCrabs[0]:.2f} + {slopeCrabs[0][0]:.3f} * (latitude)\")"
   ]
  },
  {
   "cell_type": "markdown",
   "id": "a407b8e5",
   "metadata": {},
   "source": [
    "## NHanes"
   ]
  },
  {
   "cell_type": "code",
   "execution_count": 7,
   "id": "867784a8-c9f3-4974-8e36-ecbd29394cbb",
   "metadata": {},
   "outputs": [],
   "source": [
    "# Import data\n",
    "nhanes = pd.read_csv('nhanes.csv')\n",
    "nhanes[\"Diabetes_num\"] = nhanes[\"Diabetes\"].map({\"Yes\": 1, \"No\": 0})\n",
    "nhanes = nhanes.dropna(subset=[\"Age\", \"Diabetes_num\"])\n",
    "\n",
    "# Store relevant columns as variables\n",
    "X = nhanes[['Age']].values.reshape(-1, 1)\n",
    "y = nhanes[['Diabetes_num']].values.reshape(-1, 1)"
   ]
  },
  {
   "cell_type": "code",
   "execution_count": 8,
   "id": "6132a092-b73f-44d3-999d-5dc847da602c",
   "metadata": {},
   "outputs": [
    {
     "data": {
      "text/plain": [
       "Text(0, 0.5, 'Diabetes (yes=1, no=0)')"
      ]
     },
     "execution_count": 8,
     "metadata": {},
     "output_type": "execute_result"
    },
    {
     "data": {
      "image/png": "[encoded data removed]",
      "text/plain": [
       "<Figure size 640x480 with 1 Axes>"
      ]
     },
     "metadata": {},
     "output_type": "display_data"
    }
   ],
   "source": [
    "# Fit a least squares regression model\n",
    "linModel = LinearRegression()\n",
    "linModel.fit(X, y)\n",
    "yPredicted = linModel.predict(X)\n",
    "\n",
    "# Graph the model\n",
    "plt.scatter(X, y, color='black')\n",
    "plt.plot(X, yPredicted, color='blue', linewidth=2)\n",
    "plt.xlabel('Age', fontsize=14)\n",
    "plt.ylabel('Diabetes (yes=1, no=0)', fontsize=14)"
   ]
  },
  {
   "cell_type": "code",
   "execution_count": null,
   "id": "e116bfdd-d64f-42b2-98b9-309ffc071edc",
   "metadata": {},
   "outputs": [
    {
     "data": {
      "text/plain": [
       "Text(0, 0.5, 'Diabetes (yes=1, no=0)')"
      ]
     },
     "execution_count": 9,
     "metadata": {},
     "output_type": "execute_result"
    }
   ],
   "source": [
    "# Graph the residuals\n",
    "plt.scatter(X, y, color='black')\n",
    "plt.plot(X, yPredicted, color='blue', linewidth=2)\n",
    "for i in range(len(X)):\n",
    "    plt.plot([X[i], X[i]], [y[i], yPredicted[i]], color='grey', linewidth=1)\n",
    "plt.xlabel('Age', fontsize=14)\n",
    "plt.ylabel('Diabetes (yes=1, no=0)', fontsize=14)"
   ]
  },
  {
   "cell_type": "code",
   "execution_count": null,
   "id": "9602dcc5-c5ad-49b2-80d4-9415a207c14e",
   "metadata": {},
   "outputs": [],
   "source": [
    "# Output the intercept of the least squares regression\n",
    "intercept = linModel.intercept_\n",
    "print(intercept[0])"
   ]
  },
  {
   "cell_type": "code",
   "execution_count": null,
   "id": "bf6db4de-e179-4f8d-8857-51e43a855b4c",
   "metadata": {},
   "outputs": [],
   "source": [
    "# Output the slope of the least squares regression\n",
    "slope = linModel.coef_\n",
    "print(slope[0][0])"
   ]
  },
  {
   "cell_type": "code",
   "execution_count": null,
   "id": "8c783efe-d5ca-4c2c-a810-3080e3469270",
   "metadata": {},
   "outputs": [],
   "source": [
    "# Write the least squares model as an equation\n",
    "print(\"Predicted mean length = \", intercept[0], \" + \", slope[0][0], \"* (latitude)\")"
   ]
  },
  {
   "cell_type": "code",
   "execution_count": null,
   "id": "d34e672b-c8dc-4e01-9f8c-e24a3e447b69",
   "metadata": {},
   "outputs": [],
   "source": [
    "# Compute the sum of squared errors for the least squares model\n",
    "SSEreg = sum((y - yPredicted) ** 2)[0]\n",
    "SSEreg"
   ]
  },
  {
   "cell_type": "code",
   "execution_count": null,
   "id": "fbd01937-3f9c-46f9-9c41-4d7edecea308",
   "metadata": {},
   "outputs": [],
   "source": [
    "# Compute the sum of squared errors for the horizontal line model\n",
    "SSEyBar = sum((y - np.mean(y)) ** 2)[0]\n",
    "SSEyBar"
   ]
  },
  {
   "cell_type": "code",
   "execution_count": null,
   "id": "dabed59a-47bd-45e4-8be0-24c9b591e93e",
   "metadata": {},
   "outputs": [],
   "source": [
    "# Compute the proportion of variation explained by the linear regression\n",
    "# using the sum of squared errors\n",
    "(SSEyBar - SSEreg) / (SSEyBar)"
   ]
  },
  {
   "cell_type": "code",
   "execution_count": null,
   "id": "8f4266ba-84dd-459c-bdad-5c29907cf9bb",
   "metadata": {},
   "outputs": [],
   "source": [
    "# Compute the correlation coefficient r\n",
    "r = r_regression(X, np.ravel(y))[0]\n",
    "r"
   ]
  },
  {
   "cell_type": "code",
   "execution_count": null,
   "id": "61e4b2d3-d4e3-4476-b2f2-a9ee741ead42",
   "metadata": {},
   "outputs": [],
   "source": [
    "# Compute the proportion of variation explained by the linear regression\n",
    "# using correlation coefficient\n",
    "r**2"
   ]
  },
  {
   "cell_type": "code",
   "execution_count": null,
   "id": "2f849b12-4788-4bc0-ae03-614525c857ae",
   "metadata": {},
   "outputs": [],
   "source": [
    "# Compute the proportion of variation explained by the linear regression\n",
    "# using the LinearModel object's score method\n",
    "linModel.score(X, y)"
   ]
  }
 ],
 "metadata": {
  "kernelspec": {
   "display_name": "Python 3 (ipykernel)",
   "language": "python",
   "name": "python3"
  },
  "language_info": {
   "codemirror_mode": {
    "name": "ipython",
    "version": 3
   },
   "file_extension": ".py",
   "mimetype": "text/x-python",
   "name": "python",
   "nbconvert_exporter": "python",
   "pygments_lexer": "ipython3",
   "version": "3.13.9"
  },
  "widgets": {
   "application/vnd.jupyter.widget-state+json": {
    "state": {},
    "version_major": 2,
    "version_minor": 0
   }
  }
 },
 "nbformat": 4,
 "nbformat_minor": 5
}
