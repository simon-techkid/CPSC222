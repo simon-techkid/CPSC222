{
 "cells": [
  {
   "cell_type": "markdown",
   "id": "86102e3f-f685-4caf-944d-46c7ce02ca03",
   "metadata": {},
   "source": [
    "# Project 3B:Read from CSV, sort, plot"
   ]
  },
  {
   "cell_type": "code",
   "execution_count": 10,
   "id": "da206f73-3a0e-45a3-a6b5-e636930b9ab3",
   "metadata": {},
   "outputs": [],
   "source": [
    "\n",
    "import pandas as pd\n",
    "import numpy as np\n",
    "import matplotlib.pyplot as plt\n",
    "import math\n",
    "\n",
    "fin = \"data.csv\" #output of project3B in current folder\n",
    "#plotType = \"LL\"\n",
    "plotType = \"LL\""
   ]
  },
  {
   "cell_type": "code",
   "execution_count": 14,
   "id": "a6145303-ac8a-404a-9ab7-95d2f78f43b4",
   "metadata": {},
   "outputs": [
    {
     "name": "stdout",
     "output_type": "stream",
     "text": [
      "File read successfully\n"
     ]
    }
   ],
   "source": [
    "#Read data\n",
    "#I didn't tell students to do try/exception\n",
    "try:\n",
    "    df = pd.read_csv(fin)\n",
    "    print(\"File read successfully\")\n",
    "except Exception:\n",
    "    print(\"File not found\")"
   ]
  },
  {
   "cell_type": "code",
   "execution_count": 15,
   "id": "dd9ce675-0222-40f0-81b0-687fbed23fc2",
   "metadata": {},
   "outputs": [],
   "source": [
    "#Numpy Approach\n",
    "\n",
    "arr = df.to_numpy()\n",
    "#Sort the 0th column, frequency,  over all rows (:), make this, the new array--the outer array\n",
    "sorted_arr = arr[arr[:,0].argsort()]   \n",
    "rev_order = sorted_arr[::-1]\n",
    "y = [rev_order[i][0] for i in range(rev_order.shape[0])]  #y axiss = frequency\n",
    "x = [i + 1 for i in range(len(y))]                        #x axis = rank\n",
    "\n",
    "\n"
   ]
  },
  {
   "cell_type": "code",
   "execution_count": 16,
   "id": "fa63bc7a-426c-46ec-944f-a287cf41164a",
   "metadata": {},
   "outputs": [
    {
     "data": {
      "image/png": "[encoded data removed]",
      "text/plain": [
       "<Figure size 640x480 with 1 Axes>"
      ]
     },
     "metadata": {},
     "output_type": "display_data"
    }
   ],
   "source": [
    "#plot \n",
    "\n",
    "if plotType == \"LL\":\n",
    "    x = np.log(x)\n",
    "    y = np.log(y)\n",
    "\n",
    "pl = plt.gca()\n",
    "pl.plot(x,y)\n",
    "pl.set_xlabel(\"Rank\")\n",
    "pl.set_ylabel(\"Probability\")\n",
    "plt.show()"
   ]
  },
  {
   "cell_type": "code",
   "execution_count": null,
   "id": "a2b68fc7-f2ce-43b6-8906-ea3a072f2995",
   "metadata": {},
   "outputs": [],
   "source": []
  },
  {
   "cell_type": "code",
   "execution_count": null,
   "id": "9f7fb5af-a135-4ca2-86b5-684be2440c44",
   "metadata": {},
   "outputs": [],
   "source": []
  },
  {
   "cell_type": "code",
   "execution_count": null,
   "id": "4f092712-44d5-4a46-9a15-1a677938c27c",
   "metadata": {},
   "outputs": [],
   "source": []
  },
  {
   "cell_type": "code",
   "execution_count": null,
   "id": "9611fb5c-5752-43ae-a0b9-f37f048a567a",
   "metadata": {},
   "outputs": [],
   "source": []
  },
  {
   "cell_type": "code",
   "execution_count": null,
   "id": "1fd62759-5382-428c-8179-18177c10b27e",
   "metadata": {},
   "outputs": [],
   "source": []
  }
 ],
 "metadata": {
  "kernelspec": {
   "display_name": "Python 3 (ipykernel)",
   "language": "python",
   "name": "python3"
  },
  "language_info": {
   "codemirror_mode": {
    "name": "ipython",
    "version": 3
   },
   "file_extension": ".py",
   "mimetype": "text/x-python",
   "name": "python",
   "nbconvert_exporter": "python",
   "pygments_lexer": "ipython3",
   "version": "3.13.7"
  }
 },
 "nbformat": 4,
 "nbformat_minor": 5
}
