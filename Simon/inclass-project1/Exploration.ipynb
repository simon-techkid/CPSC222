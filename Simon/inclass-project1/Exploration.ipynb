{
 "cells": [
  {
   "cell_type": "code",
   "execution_count": 1,
   "id": "16d3048a-5388-4256-8442-c9bc77cfebb6",
   "metadata": {},
   "outputs": [],
   "source": [
    "import statistics\n",
    "import pandas as pd\n",
    "import random\n",
    "import matplotlib.pyplot as plt"
   ]
  },
  {
   "cell_type": "code",
   "execution_count": 2,
   "id": "750ae8f9-eb1a-4e3a-bba0-355c35a7beae",
   "metadata": {},
   "outputs": [],
   "source": [
    "path: str = \"nhanes.csv\""
   ]
  },
  {
   "cell_type": "code",
   "execution_count": 3,
   "id": "7cc04259-a52a-4df0-bb8d-6472a6b1738c",
   "metadata": {},
   "outputs": [],
   "source": [
    "df = pd.read_csv(path)"
   ]
  },
  {
   "cell_type": "code",
   "execution_count": 4,
   "id": "de2fa3e5-a8be-448e-8dd7-b0481d728022",
   "metadata": {},
   "outputs": [
    {
     "name": "stdout",
     "output_type": "stream",
     "text": [
      "      ID SurveyYr  Gender  Age AgeDecade  AgeMonths  Race1 Race3  \\\n",
      "0  51624  2009_10    male   34     30-39      409.0  White   NaN   \n",
      "1  51624  2009_10    male   34     30-39      409.0  White   NaN   \n",
      "2  51624  2009_10    male   34     30-39      409.0  White   NaN   \n",
      "3  51625  2009_10    male    4       0-9       49.0  Other   NaN   \n",
      "4  51630  2009_10  female   49     40-49      596.0  White   NaN   \n",
      "\n",
      "      Education MaritalStatus  ... RegularMarij  AgeRegMarij  HardDrugs  \\\n",
      "0   High School       Married  ...           No          NaN        Yes   \n",
      "1   High School       Married  ...           No          NaN        Yes   \n",
      "2   High School       Married  ...           No          NaN        Yes   \n",
      "3           NaN           NaN  ...          NaN          NaN        NaN   \n",
      "4  Some College   LivePartner  ...           No          NaN        Yes   \n",
      "\n",
      "   SexEver SexAge SexNumPartnLife  SexNumPartYear  SameSex  SexOrientation  \\\n",
      "0      Yes   16.0             8.0             1.0       No    Heterosexual   \n",
      "1      Yes   16.0             8.0             1.0       No    Heterosexual   \n",
      "2      Yes   16.0             8.0             1.0       No    Heterosexual   \n",
      "3      NaN    NaN             NaN             NaN      NaN             NaN   \n",
      "4      Yes   12.0            10.0             1.0      Yes    Heterosexual   \n",
      "\n",
      "   PregnantNow  \n",
      "0          NaN  \n",
      "1          NaN  \n",
      "2          NaN  \n",
      "3          NaN  \n",
      "4          NaN  \n",
      "\n",
      "[5 rows x 76 columns]\n"
     ]
    }
   ],
   "source": [
    "print(df.head())"
   ]
  },
  {
   "cell_type": "code",
   "execution_count": 5,
   "id": "7e529cdf-3b81-4981-b914-1523a6a1289e",
   "metadata": {},
   "outputs": [
    {
     "name": "stdout",
     "output_type": "stream",
     "text": [
      "{'Heterosexual': 4638, nan: 5158, 'Bisexual': 119, 'Homosexual': 85}\n"
     ]
    }
   ],
   "source": [
    "sexie = df['SexOrientation']\n",
    "dic: dict = {};\n",
    "\n",
    "for element in sexie:\n",
    "    if element in dic:\n",
    "        dic[element] = dic[element] + 1\n",
    "    else:\n",
    "        dic[element] = 1\n",
    "\n",
    "print(dic)"
   ]
  },
  {
   "cell_type": "code",
   "execution_count": 6,
   "id": "966ca383-37cd-43f3-8031-4640253f56aa",
   "metadata": {},
   "outputs": [
    {
     "name": "stdout",
     "output_type": "stream",
     "text": [
      "2000.0\n",
      "0.0\n",
      "15.085065502183406\n",
      "5.0\n"
     ]
    }
   ],
   "source": [
    "datfr = df['SexNumPartnLife']\n",
    "print(datfr.max())\n",
    "print(datfr.min())\n",
    "print(datfr.mean())\n",
    "print(datfr.median())"
   ]
  },
  {
   "cell_type": "code",
   "execution_count": 7,
   "id": "a80cc6ae-9f32-4156-8837-bc65029dfd0c",
   "metadata": {},
   "outputs": [
    {
     "name": "stdout",
     "output_type": "stream",
     "text": [
      "Number Surveyed: 10000\n",
      "Number Hetero: 4638\n",
      "Number Bisexual: 119\n",
      "Number Homosexual: 85\n",
      "Max Sex Partners: 2000.0\n",
      "Mean Sex Partners: 15.085065502183406\n",
      "Median Sex Partners: 5.0\n",
      "Median Age: 36.7421\n"
     ]
    }
   ],
   "source": [
    "print(f\"Number Surveyed: {len(df)}\")\n",
    "print(f\"Number Hetero: {dic[\"Heterosexual\"]}\")\n",
    "print(f\"Number Bisexual: {dic[\"Bisexual\"]}\")\n",
    "print(f\"Number Homosexual: {dic[\"Homosexual\"]}\")\n",
    "print(f\"Max Sex Partners: {datfr.max()}\")\n",
    "print(f\"Mean Sex Partners: {datfr.mean()}\")\n",
    "print(f\"Median Sex Partners: {datfr.median()}\")\n",
    "print(f\"Median Age: {df[\"Age\"].mean()}\")"
   ]
  },
  {
   "cell_type": "code",
   "execution_count": null,
   "id": "14ed377c-7910-4c9a-a918-44705a53cf6a",
   "metadata": {},
   "outputs": [],
   "source": []
  }
 ],
 "metadata": {
  "kernelspec": {
   "display_name": "Python 3 (ipykernel)",
   "language": "python",
   "name": "python3"
  },
  "language_info": {
   "codemirror_mode": {
    "name": "ipython",
    "version": 3
   },
   "file_extension": ".py",
   "mimetype": "text/x-python",
   "name": "python",
   "nbconvert_exporter": "python",
   "pygments_lexer": "ipython3",
   "version": "3.13.7"
  }
 },
 "nbformat": 4,
 "nbformat_minor": 5
}
